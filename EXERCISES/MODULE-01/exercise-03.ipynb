{
 "cells": [
  {
   "cell_type": "markdown",
   "metadata": {},
   "source": [
    "# I. CÂU HỎI TỰ LUẬN"
   ]
  },
  {
   "cell_type": "markdown",
   "metadata": {},
   "source": [
    "---"
   ]
  },
  {
   "cell_type": "markdown",
   "metadata": {},
   "source": [
    "## 1. Viết class và cài phương thức Softmax"
   ]
  },
  {
   "cell_type": "markdown",
   "metadata": {},
   "source": [
    "Xây dựng lớp `Softmax` và `softmax_stable` nhận đầu vào là mảng 1 chiều (tensor 1 chiều) dựa vào kế thừa từ lớp `torch.nn.Module`"
   ]
  },
  {
   "cell_type": "markdown",
   "metadata": {},
   "source": [
    "<div style=\"border-bottom: 1px dashed white;\"></div>"
   ]
  },
  {
   "cell_type": "code",
   "execution_count": 9,
   "metadata": {},
   "outputs": [],
   "source": [
    "import torch\n",
    "import torch.nn as nn\n",
    "import torch.nn.functional as F\n",
    "\n",
    "class Softmax(nn.Module):\n",
    "    def __init__(self):\n",
    "        super(Softmax, self).__init__()\n",
    "    \n",
    "    def forward(self, x):\n",
    "        return F.softmax(x, dim=-1)\n",
    "\n",
    "class softmax_stable(nn.Module):\n",
    "    def __init__(self):\n",
    "        super(softmax_stable, self).__init__()\n",
    "    \n",
    "    def forward(self, x):\n",
    "        max_val = torch.max(x)\n",
    "        exp_x = torch.exp(x - max_val)\n",
    "        sum_exp_x = torch.sum(exp_x)\n",
    "        return exp_x / sum_exp_x"
   ]
  },
  {
   "cell_type": "code",
   "execution_count": 10,
   "metadata": {},
   "outputs": [
    {
     "data": {
      "text/plain": [
       "tensor([0.0900, 0.2447, 0.6652])"
      ]
     },
     "execution_count": 10,
     "metadata": {},
     "output_type": "execute_result"
    }
   ],
   "source": [
    "data = torch.Tensor ([1, 2, 3])\n",
    "softmax = Softmax()\n",
    "output = softmax(data)\n",
    "output"
   ]
  },
  {
   "cell_type": "code",
   "execution_count": 11,
   "metadata": {},
   "outputs": [
    {
     "data": {
      "text/plain": [
       "tensor([0.0900, 0.2447, 0.6652])"
      ]
     },
     "execution_count": 11,
     "metadata": {},
     "output_type": "execute_result"
    }
   ],
   "source": [
    "data = torch.Tensor ([1, 2, 3])\n",
    "softmax_stable = softmax_stable()\n",
    "output = softmax_stable(data)\n",
    "output"
   ]
  },
  {
   "cell_type": "markdown",
   "metadata": {},
   "source": [
    "---"
   ]
  },
  {
   "cell_type": "markdown",
   "metadata": {},
   "source": [
    "## 2. Tạo một lớp Ward với danh sách các đối tượng Person"
   ]
  },
  {
   "cell_type": "markdown",
   "metadata": {},
   "source": [
    "Một Ward (phường) gồm có : name (string) và list chứa mọi người trong Ward.\n",
    "\n",
    "Một người person có thể là student, doctor, hoặc teacher :\n",
    "\n",
    "- Một student gồm có : name, yob (int) (năm sinh) và grade (string);\n",
    "- Một teacher gồm có : name, yob và subject (string);\n",
    "- Một doctor gồm có : name, yob và specialist (string)."
   ]
  },
  {
   "cell_type": "markdown",
   "metadata": {},
   "source": [
    "<div style=\"border-bottom: 1px dashed white;\"></div>"
   ]
  },
  {
   "cell_type": "markdown",
   "metadata": {},
   "source": [
    "**Task a :** Tạo class Student, Doctor và Teacher (dùng `describe()` method để in tất cả thông tin của các object)"
   ]
  },
  {
   "cell_type": "code",
   "execution_count": 12,
   "metadata": {},
   "outputs": [
    {
     "data": {
      "text/plain": [
       "'Student - Name: studentA - Yob: 2010 - Grade: 7'"
      ]
     },
     "execution_count": 12,
     "metadata": {},
     "output_type": "execute_result"
    }
   ],
   "source": [
    "class Student():\n",
    "    def __init__(self, name, yob, grade):\n",
    "        self.name = name\n",
    "        self.yob = yob\n",
    "        self.grade = grade\n",
    "    \n",
    "    def describe(self):\n",
    "        return f'Student - Name: {self.name} - Yob: {self.yob} - Grade: {self.grade}'\n",
    "\n",
    "student1 = Student('studentA', 2010, '7')\n",
    "student1.describe()"
   ]
  },
  {
   "cell_type": "code",
   "execution_count": 16,
   "metadata": {},
   "outputs": [
    {
     "data": {
      "text/plain": [
       "'Teacher - Name: teacherA - Yob: 1969 - Subject: Math'"
      ]
     },
     "execution_count": 16,
     "metadata": {},
     "output_type": "execute_result"
    }
   ],
   "source": [
    "class Teacher():\n",
    "    def __init__(self, name, yob, subject):\n",
    "        self.name = name\n",
    "        self.yob = yob\n",
    "        self.subject = subject\n",
    "    \n",
    "    def describe(self):\n",
    "        return f'Teacher - Name: {self.name} - Yob: {self.yob} - Subject: {self.subject}'\n",
    "\n",
    "teacher1 = Teacher('teacherA', 1969, 'Math')\n",
    "teacher1.describe()"
   ]
  },
  {
   "cell_type": "code",
   "execution_count": 17,
   "metadata": {},
   "outputs": [
    {
     "data": {
      "text/plain": [
       "'Doctor - Name: doctorA - Yob: 1945 - Specialist: Endocrinologists'"
      ]
     },
     "execution_count": 17,
     "metadata": {},
     "output_type": "execute_result"
    }
   ],
   "source": [
    "class Doctor():\n",
    "    def __init__(self, name, yob, specialist):\n",
    "        self.name = name\n",
    "        self.yob = yob\n",
    "        self.specialist = specialist\n",
    "    \n",
    "    def describe(self):\n",
    "        return f'Doctor - Name: {self.name} - Yob: {self.yob} - Specialist: {self.specialist}'\n",
    "\n",
    "doctor1 = Doctor('doctorA', 1945, 'Endocrinologists')\n",
    "doctor1.describe()"
   ]
  },
  {
   "cell_type": "markdown",
   "metadata": {},
   "source": [
    "**Task b :**\n",
    "\n",
    "Tạo class Ward và viết `add_person(person)` method để add thêm một người mới vào danh sách người của Ward.\n",
    "\n",
    "Tạo ra một Ward object và thêm vào 1 student, 2 teacher và 2 doctor và viết `describe()` method để in ra tên Ward cũng như tất cả thông tin của từng người trong Ward"
   ]
  },
  {
   "cell_type": "code",
   "execution_count": 21,
   "metadata": {},
   "outputs": [],
   "source": [
    "class Ward:\n",
    "    def __init__(self, name):\n",
    "        self.name = name\n",
    "        self.people = []\n",
    "\n",
    "    def add_person(self, person):\n",
    "        self.people.append(person)\n",
    "        \n",
    "    def describe(self):\n",
    "        description = f'Ward : {self.name} \\n'\n",
    "        for person in self.people:\n",
    "            description += person.describe() + '\\n'\n",
    "        return description"
   ]
  },
  {
   "cell_type": "code",
   "execution_count": null,
   "metadata": {},
   "outputs": [],
   "source": [
    "teacher2 = Teacher('teacherB', 1995, 'History')\n",
    "doctor2 = Doctor('doctorB', 1975, 'Cardiologists')"
   ]
  },
  {
   "cell_type": "code",
   "execution_count": 23,
   "metadata": {},
   "outputs": [
    {
     "name": "stdout",
     "output_type": "stream",
     "text": [
      "Ward : Ward1 \n",
      "Student - Name: studentA - Yob: 2010 - Grade: 7\n",
      "Teacher - Name: teacherA - Yob: 1969 - Subject: Math\n",
      "Teacher - Name: teacherB - Yob: 1995 - Subject: History\n",
      "Doctor - Name: doctorA - Yob: 1945 - Specialist: Endocrinologists\n",
      "Doctor - Name: doctorB - Yob: 1975 - Specialist: Cardiologists\n",
      "\n"
     ]
    }
   ],
   "source": [
    "ward1 = Ward('Ward1')\n",
    "ward1.add_person(student1)\n",
    "ward1.add_person(teacher1)\n",
    "ward1.add_person(teacher2)\n",
    "ward1.add_person(doctor1)\n",
    "ward1.add_person(doctor2)\n",
    "\n",
    "print(ward1.describe())"
   ]
  },
  {
   "cell_type": "markdown",
   "metadata": {},
   "source": [
    "**Task c :** Viết `count_doctor()` method để đếm số lượng doctor trong Ward"
   ]
  },
  {
   "cell_type": "code",
   "execution_count": 25,
   "metadata": {},
   "outputs": [],
   "source": [
    "class Ward:\n",
    "    def __init__(self, name):\n",
    "        self.name = name\n",
    "        self.people = []\n",
    "\n",
    "    def add_person(self, person):\n",
    "        self.people.append(person)\n",
    "    \n",
    "    def count_doctor(self):\n",
    "        return sum(1 for person in self.people if isinstance(person, Doctor))"
   ]
  },
  {
   "cell_type": "code",
   "execution_count": 26,
   "metadata": {},
   "outputs": [
    {
     "data": {
      "text/plain": [
       "2"
      ]
     },
     "execution_count": 26,
     "metadata": {},
     "output_type": "execute_result"
    }
   ],
   "source": [
    "ward1 = Ward('Ward1')\n",
    "ward1.add_person(student1)\n",
    "ward1.add_person(teacher1)\n",
    "ward1.add_person(teacher2)\n",
    "ward1.add_person(doctor1)\n",
    "ward1.add_person(doctor2)\n",
    "\n",
    "ward1.count_doctor()"
   ]
  },
  {
   "cell_type": "markdown",
   "metadata": {},
   "source": [
    "**Task d :** Viết `sord_age()` method để sắp xếp mọi người trong Ward theo tuổi của họ với thứ tự tăng dần"
   ]
  },
  {
   "cell_type": "code",
   "execution_count": 31,
   "metadata": {},
   "outputs": [],
   "source": [
    "class Ward:\n",
    "    def __init__(self, name):\n",
    "        self.name = name\n",
    "        self.people = []\n",
    "\n",
    "    def add_person(self, person):\n",
    "        self.people.append(person)\n",
    "    \n",
    "    def sort_age(self):\n",
    "        self.people.sort(key=lambda person: person.yob, reverse=True)\n",
    "    \n",
    "    def describe(self):\n",
    "        description = f'Ward : {self.name} \\n'\n",
    "        for person in self.people:\n",
    "            description += person.describe() + '\\n'\n",
    "        return description"
   ]
  },
  {
   "cell_type": "code",
   "execution_count": 32,
   "metadata": {},
   "outputs": [
    {
     "name": "stdout",
     "output_type": "stream",
     "text": [
      "Ward : Ward1 \n",
      "Student - Name: studentA - Yob: 2010 - Grade: 7\n",
      "Teacher - Name: teacherB - Yob: 1995 - Subject: History\n",
      "Doctor - Name: doctorB - Yob: 1975 - Specialist: Cardiologists\n",
      "Teacher - Name: teacherA - Yob: 1969 - Subject: Math\n",
      "Doctor - Name: doctorA - Yob: 1945 - Specialist: Endocrinologists\n",
      "\n"
     ]
    }
   ],
   "source": [
    "ward1 = Ward('Ward1')\n",
    "ward1.add_person(student1)\n",
    "ward1.add_person(teacher1)\n",
    "ward1.add_person(teacher2)\n",
    "ward1.add_person(doctor1)\n",
    "ward1.add_person(doctor2)\n",
    "\n",
    "ward1.sort_age()\n",
    "print(ward1.describe())"
   ]
  },
  {
   "cell_type": "markdown",
   "metadata": {},
   "source": [
    "**Task e :** Viết `compute_average()` method để tính trung bình năm sinh của các teacher trong Ward"
   ]
  },
  {
   "cell_type": "code",
   "execution_count": 33,
   "metadata": {},
   "outputs": [],
   "source": [
    "class Ward:\n",
    "    def __init__(self, name):\n",
    "        self.name = name\n",
    "        self.people = []\n",
    "\n",
    "    def add_person(self, person):\n",
    "        self.people.append(person)\n",
    "    \n",
    "    def compute_average(self):\n",
    "        teachers = [person.yob for person in self.people if isinstance(person, Teacher)]\n",
    "        if not teachers:\n",
    "            return 0\n",
    "        return sum(teachers) / len(teachers)"
   ]
  },
  {
   "cell_type": "code",
   "execution_count": 35,
   "metadata": {},
   "outputs": [
    {
     "name": "stdout",
     "output_type": "stream",
     "text": [
      "Average year of birth (teacher) : 1982.0\n"
     ]
    }
   ],
   "source": [
    "ward1 = Ward('Ward1')\n",
    "ward1.add_person(student1)\n",
    "ward1.add_person(teacher1)\n",
    "ward1.add_person(teacher2)\n",
    "ward1.add_person(doctor1)\n",
    "ward1.add_person(doctor2)\n",
    "\n",
    "print(f'Average year of birth (teacher) : {ward1.compute_average()}')"
   ]
  },
  {
   "cell_type": "markdown",
   "metadata": {},
   "source": [
    "---"
   ]
  },
  {
   "cell_type": "markdown",
   "metadata": {},
   "source": [
    "## 3. Xây dựng Class Stack"
   ]
  },
  {
   "cell_type": "markdown",
   "metadata": {},
   "source": [
    "Sử dụng các phương thức :\n",
    "- initialization\n",
    "- is_empty\n",
    "- is_full\n",
    "- push(value)\n",
    "- pop\n",
    "- top"
   ]
  },
  {
   "cell_type": "markdown",
   "metadata": {},
   "source": [
    "<div style=\"border-bottom: 1px dashed white;\"></div>"
   ]
  },
  {
   "cell_type": "code",
   "execution_count": 47,
   "metadata": {},
   "outputs": [],
   "source": [
    "class MyStack:\n",
    "    def __init__(self, capacity):\n",
    "        self.stack = []\n",
    "        self.capacity = capacity\n",
    "\n",
    "    def is_empty(self):\n",
    "        return len(self.stack) == 0\n",
    "\n",
    "    def is_full(self):\n",
    "        return len(self.stack) == self.capacity\n",
    "    \n",
    "    def push(self, value):\n",
    "        if self.is_full():\n",
    "            raise OverflowError('Push to a full stack')\n",
    "        self.stack.append(value)\n",
    "\n",
    "    def pop(self):\n",
    "        if self.is_empty():\n",
    "            raise IndexError('Pop from an empty stack')\n",
    "        return self.stack.pop(-1)\n",
    "    \n",
    "    def top(self):\n",
    "        if self.is_empty():\n",
    "            raise IndexError('Top from an empty stack')\n",
    "        return self.stack[-1]"
   ]
  },
  {
   "cell_type": "code",
   "execution_count": 48,
   "metadata": {},
   "outputs": [
    {
     "data": {
      "text/plain": [
       "True"
      ]
     },
     "execution_count": 48,
     "metadata": {},
     "output_type": "execute_result"
    }
   ],
   "source": [
    "stack1 = MyStack(5)\n",
    "stack1.is_empty()"
   ]
  },
  {
   "cell_type": "code",
   "execution_count": 49,
   "metadata": {},
   "outputs": [
    {
     "ename": "OverflowError",
     "evalue": "Push to a full stack",
     "output_type": "error",
     "traceback": [
      "\u001b[1;31m---------------------------------------------------------------------------\u001b[0m",
      "\u001b[1;31mOverflowError\u001b[0m                             Traceback (most recent call last)",
      "Cell \u001b[1;32mIn[49], line 6\u001b[0m\n\u001b[0;32m      4\u001b[0m stack1\u001b[38;5;241m.\u001b[39mpush(\u001b[38;5;241m4\u001b[39m)\n\u001b[0;32m      5\u001b[0m stack1\u001b[38;5;241m.\u001b[39mpush(\u001b[38;5;241m5\u001b[39m)\n\u001b[1;32m----> 6\u001b[0m \u001b[43mstack1\u001b[49m\u001b[38;5;241;43m.\u001b[39;49m\u001b[43mpush\u001b[49m\u001b[43m(\u001b[49m\u001b[38;5;241;43m6\u001b[39;49m\u001b[43m)\u001b[49m\n",
      "Cell \u001b[1;32mIn[47], line 14\u001b[0m, in \u001b[0;36mMyStack.push\u001b[1;34m(self, value)\u001b[0m\n\u001b[0;32m     12\u001b[0m \u001b[38;5;28;01mdef\u001b[39;00m \u001b[38;5;21mpush\u001b[39m(\u001b[38;5;28mself\u001b[39m, value):\n\u001b[0;32m     13\u001b[0m     \u001b[38;5;28;01mif\u001b[39;00m \u001b[38;5;28mself\u001b[39m\u001b[38;5;241m.\u001b[39mis_full():\n\u001b[1;32m---> 14\u001b[0m         \u001b[38;5;28;01mraise\u001b[39;00m \u001b[38;5;167;01mOverflowError\u001b[39;00m(\u001b[38;5;124m'\u001b[39m\u001b[38;5;124mPush to a full stack\u001b[39m\u001b[38;5;124m'\u001b[39m)\n\u001b[0;32m     15\u001b[0m     \u001b[38;5;28mself\u001b[39m\u001b[38;5;241m.\u001b[39mstack\u001b[38;5;241m.\u001b[39mappend(value)\n",
      "\u001b[1;31mOverflowError\u001b[0m: Push to a full stack"
     ]
    }
   ],
   "source": [
    "stack1.push(1)\n",
    "stack1.push(2)\n",
    "stack1.push(3)\n",
    "stack1.push(4)\n",
    "stack1.push(5)\n",
    "stack1.push(6)"
   ]
  },
  {
   "cell_type": "code",
   "execution_count": 50,
   "metadata": {},
   "outputs": [
    {
     "name": "stdout",
     "output_type": "stream",
     "text": [
      "True\n",
      "5\n"
     ]
    }
   ],
   "source": [
    "print(stack1.is_full())\n",
    "print(stack1.top())"
   ]
  },
  {
   "cell_type": "code",
   "execution_count": 51,
   "metadata": {},
   "outputs": [
    {
     "ename": "IndexError",
     "evalue": "Pop from an empty stack",
     "output_type": "error",
     "traceback": [
      "\u001b[1;31m---------------------------------------------------------------------------\u001b[0m",
      "\u001b[1;31mIndexError\u001b[0m                                Traceback (most recent call last)",
      "Cell \u001b[1;32mIn[51], line 6\u001b[0m\n\u001b[0;32m      4\u001b[0m stack1\u001b[38;5;241m.\u001b[39mpop()\n\u001b[0;32m      5\u001b[0m stack1\u001b[38;5;241m.\u001b[39mpop()\n\u001b[1;32m----> 6\u001b[0m \u001b[43mstack1\u001b[49m\u001b[38;5;241;43m.\u001b[39;49m\u001b[43mpop\u001b[49m\u001b[43m(\u001b[49m\u001b[43m)\u001b[49m\n",
      "Cell \u001b[1;32mIn[47], line 19\u001b[0m, in \u001b[0;36mMyStack.pop\u001b[1;34m(self)\u001b[0m\n\u001b[0;32m     17\u001b[0m \u001b[38;5;28;01mdef\u001b[39;00m \u001b[38;5;21mpop\u001b[39m(\u001b[38;5;28mself\u001b[39m):\n\u001b[0;32m     18\u001b[0m     \u001b[38;5;28;01mif\u001b[39;00m \u001b[38;5;28mself\u001b[39m\u001b[38;5;241m.\u001b[39mis_empty():\n\u001b[1;32m---> 19\u001b[0m         \u001b[38;5;28;01mraise\u001b[39;00m \u001b[38;5;167;01mIndexError\u001b[39;00m(\u001b[38;5;124m'\u001b[39m\u001b[38;5;124mPop from an empty stack\u001b[39m\u001b[38;5;124m'\u001b[39m)\n\u001b[0;32m     20\u001b[0m     \u001b[38;5;28;01mreturn\u001b[39;00m \u001b[38;5;28mself\u001b[39m\u001b[38;5;241m.\u001b[39mstack\u001b[38;5;241m.\u001b[39mpop(\u001b[38;5;241m-\u001b[39m\u001b[38;5;241m1\u001b[39m)\n",
      "\u001b[1;31mIndexError\u001b[0m: Pop from an empty stack"
     ]
    }
   ],
   "source": [
    "stack1.pop()\n",
    "stack1.pop()\n",
    "stack1.pop()\n",
    "stack1.pop()\n",
    "stack1.pop()\n",
    "stack1.pop()"
   ]
  },
  {
   "cell_type": "code",
   "execution_count": 52,
   "metadata": {},
   "outputs": [
    {
     "name": "stdout",
     "output_type": "stream",
     "text": [
      "True\n"
     ]
    },
    {
     "ename": "IndexError",
     "evalue": "Top from an empty stack",
     "output_type": "error",
     "traceback": [
      "\u001b[1;31m---------------------------------------------------------------------------\u001b[0m",
      "\u001b[1;31mIndexError\u001b[0m                                Traceback (most recent call last)",
      "Cell \u001b[1;32mIn[52], line 2\u001b[0m\n\u001b[0;32m      1\u001b[0m \u001b[38;5;28mprint\u001b[39m(stack1\u001b[38;5;241m.\u001b[39mis_empty())\n\u001b[1;32m----> 2\u001b[0m \u001b[38;5;28mprint\u001b[39m(\u001b[43mstack1\u001b[49m\u001b[38;5;241;43m.\u001b[39;49m\u001b[43mtop\u001b[49m\u001b[43m(\u001b[49m\u001b[43m)\u001b[49m)\n",
      "Cell \u001b[1;32mIn[47], line 24\u001b[0m, in \u001b[0;36mMyStack.top\u001b[1;34m(self)\u001b[0m\n\u001b[0;32m     22\u001b[0m \u001b[38;5;28;01mdef\u001b[39;00m \u001b[38;5;21mtop\u001b[39m(\u001b[38;5;28mself\u001b[39m):\n\u001b[0;32m     23\u001b[0m     \u001b[38;5;28;01mif\u001b[39;00m \u001b[38;5;28mself\u001b[39m\u001b[38;5;241m.\u001b[39mis_empty():\n\u001b[1;32m---> 24\u001b[0m         \u001b[38;5;28;01mraise\u001b[39;00m \u001b[38;5;167;01mIndexError\u001b[39;00m(\u001b[38;5;124m'\u001b[39m\u001b[38;5;124mTop from an empty stack\u001b[39m\u001b[38;5;124m'\u001b[39m)\n\u001b[0;32m     25\u001b[0m     \u001b[38;5;28;01mreturn\u001b[39;00m \u001b[38;5;28mself\u001b[39m\u001b[38;5;241m.\u001b[39mstack[\u001b[38;5;241m-\u001b[39m\u001b[38;5;241m1\u001b[39m]\n",
      "\u001b[1;31mIndexError\u001b[0m: Top from an empty stack"
     ]
    }
   ],
   "source": [
    "print(stack1.is_empty())\n",
    "print(stack1.top())"
   ]
  },
  {
   "cell_type": "markdown",
   "metadata": {},
   "source": [
    "---"
   ]
  },
  {
   "cell_type": "markdown",
   "metadata": {},
   "source": [
    "## 4. Xây dựng Class Queue"
   ]
  },
  {
   "cell_type": "markdown",
   "metadata": {},
   "source": [
    "Sử dụng các phương thức :\n",
    "- initialization\n",
    "- is_empty\n",
    "- is_full\n",
    "- enqueue(value)\n",
    "- dequeue\n",
    "- front"
   ]
  },
  {
   "cell_type": "markdown",
   "metadata": {},
   "source": [
    "<div style=\"border-bottom: 1px dashed white;\"></div>"
   ]
  },
  {
   "cell_type": "code",
   "execution_count": 53,
   "metadata": {},
   "outputs": [],
   "source": [
    "class MyQueue:\n",
    "    def __init__(self, capacity):\n",
    "        self.queue = []\n",
    "        self.capacity = capacity\n",
    "\n",
    "    def is_empty(self):\n",
    "        return len(self.queue) == 0\n",
    "\n",
    "    def is_full(self):\n",
    "        return len(self.queue) == self.capacity\n",
    "\n",
    "    def enqueue(self, value):\n",
    "        if self.is_full():\n",
    "            raise OverflowError(\"Enqueue to a full queue\")\n",
    "        self.queue.append(value)\n",
    "\n",
    "    def dequeue(self):\n",
    "        if self.is_empty():\n",
    "            raise IndexError(\"Dequeue from an empty queue\")\n",
    "        return self.queue.pop(0)\n",
    "\n",
    "    def front(self):\n",
    "        if self.is_empty():\n",
    "            raise IndexError(\"Front from an empty queue\")\n",
    "        return self.queue[0]"
   ]
  },
  {
   "cell_type": "code",
   "execution_count": 56,
   "metadata": {},
   "outputs": [
    {
     "data": {
      "text/plain": [
       "True"
      ]
     },
     "execution_count": 56,
     "metadata": {},
     "output_type": "execute_result"
    }
   ],
   "source": [
    "queue1 = MyQueue(5)\n",
    "queue1.is_empty()"
   ]
  },
  {
   "cell_type": "code",
   "execution_count": 57,
   "metadata": {},
   "outputs": [
    {
     "ename": "OverflowError",
     "evalue": "Enqueue to a full queue",
     "output_type": "error",
     "traceback": [
      "\u001b[1;31m---------------------------------------------------------------------------\u001b[0m",
      "\u001b[1;31mOverflowError\u001b[0m                             Traceback (most recent call last)",
      "Cell \u001b[1;32mIn[57], line 6\u001b[0m\n\u001b[0;32m      4\u001b[0m queue1\u001b[38;5;241m.\u001b[39menqueue(\u001b[38;5;241m4\u001b[39m)\n\u001b[0;32m      5\u001b[0m queue1\u001b[38;5;241m.\u001b[39menqueue(\u001b[38;5;241m5\u001b[39m)\n\u001b[1;32m----> 6\u001b[0m \u001b[43mqueue1\u001b[49m\u001b[38;5;241;43m.\u001b[39;49m\u001b[43menqueue\u001b[49m\u001b[43m(\u001b[49m\u001b[38;5;241;43m6\u001b[39;49m\u001b[43m)\u001b[49m\n",
      "Cell \u001b[1;32mIn[53], line 14\u001b[0m, in \u001b[0;36mMyQueue.enqueue\u001b[1;34m(self, value)\u001b[0m\n\u001b[0;32m     12\u001b[0m \u001b[38;5;28;01mdef\u001b[39;00m \u001b[38;5;21menqueue\u001b[39m(\u001b[38;5;28mself\u001b[39m, value):\n\u001b[0;32m     13\u001b[0m     \u001b[38;5;28;01mif\u001b[39;00m \u001b[38;5;28mself\u001b[39m\u001b[38;5;241m.\u001b[39mis_full():\n\u001b[1;32m---> 14\u001b[0m         \u001b[38;5;28;01mraise\u001b[39;00m \u001b[38;5;167;01mOverflowError\u001b[39;00m(\u001b[38;5;124m\"\u001b[39m\u001b[38;5;124mEnqueue to a full queue\u001b[39m\u001b[38;5;124m\"\u001b[39m)\n\u001b[0;32m     15\u001b[0m     \u001b[38;5;28mself\u001b[39m\u001b[38;5;241m.\u001b[39mqueue\u001b[38;5;241m.\u001b[39mappend(value)\n",
      "\u001b[1;31mOverflowError\u001b[0m: Enqueue to a full queue"
     ]
    }
   ],
   "source": [
    "queue1.enqueue(1)\n",
    "queue1.enqueue(2)\n",
    "queue1.enqueue(3)\n",
    "queue1.enqueue(4)\n",
    "queue1.enqueue(5)\n",
    "queue1.enqueue(6)"
   ]
  },
  {
   "cell_type": "code",
   "execution_count": 58,
   "metadata": {},
   "outputs": [
    {
     "name": "stdout",
     "output_type": "stream",
     "text": [
      "True\n",
      "1\n"
     ]
    }
   ],
   "source": [
    "print(queue1.is_full())\n",
    "print(queue1.front())"
   ]
  },
  {
   "cell_type": "code",
   "execution_count": 59,
   "metadata": {},
   "outputs": [
    {
     "ename": "IndexError",
     "evalue": "Dequeue from an empty queue",
     "output_type": "error",
     "traceback": [
      "\u001b[1;31m---------------------------------------------------------------------------\u001b[0m",
      "\u001b[1;31mIndexError\u001b[0m                                Traceback (most recent call last)",
      "Cell \u001b[1;32mIn[59], line 6\u001b[0m\n\u001b[0;32m      4\u001b[0m queue1\u001b[38;5;241m.\u001b[39mdequeue()\n\u001b[0;32m      5\u001b[0m queue1\u001b[38;5;241m.\u001b[39mdequeue()\n\u001b[1;32m----> 6\u001b[0m \u001b[43mqueue1\u001b[49m\u001b[38;5;241;43m.\u001b[39;49m\u001b[43mdequeue\u001b[49m\u001b[43m(\u001b[49m\u001b[43m)\u001b[49m\n",
      "Cell \u001b[1;32mIn[53], line 19\u001b[0m, in \u001b[0;36mMyQueue.dequeue\u001b[1;34m(self)\u001b[0m\n\u001b[0;32m     17\u001b[0m \u001b[38;5;28;01mdef\u001b[39;00m \u001b[38;5;21mdequeue\u001b[39m(\u001b[38;5;28mself\u001b[39m):\n\u001b[0;32m     18\u001b[0m     \u001b[38;5;28;01mif\u001b[39;00m \u001b[38;5;28mself\u001b[39m\u001b[38;5;241m.\u001b[39mis_empty():\n\u001b[1;32m---> 19\u001b[0m         \u001b[38;5;28;01mraise\u001b[39;00m \u001b[38;5;167;01mIndexError\u001b[39;00m(\u001b[38;5;124m\"\u001b[39m\u001b[38;5;124mDequeue from an empty queue\u001b[39m\u001b[38;5;124m\"\u001b[39m)\n\u001b[0;32m     20\u001b[0m     \u001b[38;5;28;01mreturn\u001b[39;00m \u001b[38;5;28mself\u001b[39m\u001b[38;5;241m.\u001b[39mqueue\u001b[38;5;241m.\u001b[39mpop(\u001b[38;5;241m0\u001b[39m)\n",
      "\u001b[1;31mIndexError\u001b[0m: Dequeue from an empty queue"
     ]
    }
   ],
   "source": [
    "queue1.dequeue()\n",
    "queue1.dequeue()\n",
    "queue1.dequeue()\n",
    "queue1.dequeue()\n",
    "queue1.dequeue()\n",
    "queue1.dequeue()"
   ]
  },
  {
   "cell_type": "code",
   "execution_count": 60,
   "metadata": {},
   "outputs": [
    {
     "name": "stdout",
     "output_type": "stream",
     "text": [
      "True\n"
     ]
    },
    {
     "ename": "IndexError",
     "evalue": "Front from an empty queue",
     "output_type": "error",
     "traceback": [
      "\u001b[1;31m---------------------------------------------------------------------------\u001b[0m",
      "\u001b[1;31mIndexError\u001b[0m                                Traceback (most recent call last)",
      "Cell \u001b[1;32mIn[60], line 2\u001b[0m\n\u001b[0;32m      1\u001b[0m \u001b[38;5;28mprint\u001b[39m(queue1\u001b[38;5;241m.\u001b[39mis_empty())\n\u001b[1;32m----> 2\u001b[0m \u001b[38;5;28mprint\u001b[39m(\u001b[43mqueue1\u001b[49m\u001b[38;5;241;43m.\u001b[39;49m\u001b[43mfront\u001b[49m\u001b[43m(\u001b[49m\u001b[43m)\u001b[49m)\n",
      "Cell \u001b[1;32mIn[53], line 24\u001b[0m, in \u001b[0;36mMyQueue.front\u001b[1;34m(self)\u001b[0m\n\u001b[0;32m     22\u001b[0m \u001b[38;5;28;01mdef\u001b[39;00m \u001b[38;5;21mfront\u001b[39m(\u001b[38;5;28mself\u001b[39m):\n\u001b[0;32m     23\u001b[0m     \u001b[38;5;28;01mif\u001b[39;00m \u001b[38;5;28mself\u001b[39m\u001b[38;5;241m.\u001b[39mis_empty():\n\u001b[1;32m---> 24\u001b[0m         \u001b[38;5;28;01mraise\u001b[39;00m \u001b[38;5;167;01mIndexError\u001b[39;00m(\u001b[38;5;124m\"\u001b[39m\u001b[38;5;124mFront from an empty queue\u001b[39m\u001b[38;5;124m\"\u001b[39m)\n\u001b[0;32m     25\u001b[0m     \u001b[38;5;28;01mreturn\u001b[39;00m \u001b[38;5;28mself\u001b[39m\u001b[38;5;241m.\u001b[39mqueue[\u001b[38;5;241m0\u001b[39m]\n",
      "\u001b[1;31mIndexError\u001b[0m: Front from an empty queue"
     ]
    }
   ],
   "source": [
    "print(queue1.is_empty())\n",
    "print(queue1.front())"
   ]
  },
  {
   "cell_type": "markdown",
   "metadata": {},
   "source": [
    "---"
   ]
  },
  {
   "cell_type": "markdown",
   "metadata": {},
   "source": [
    "# II. CÂU HỎI TRẮC NGHIỆM"
   ]
  },
  {
   "cell_type": "markdown",
   "metadata": {},
   "source": [
    "---"
   ]
  },
  {
   "cell_type": "markdown",
   "metadata": {},
   "source": [
    "## Câu 1:"
   ]
  },
  {
   "cell_type": "code",
   "execution_count": 61,
   "metadata": {},
   "outputs": [
    {
     "data": {
      "text/plain": [
       "tensor([0.0900, 0.2447, 0.6652])"
      ]
     },
     "execution_count": 61,
     "metadata": {},
     "output_type": "execute_result"
    }
   ],
   "source": [
    "import torch\n",
    "import torch.nn as nn\n",
    "\n",
    "data = torch.Tensor([1, 2, 3])\n",
    "softmax_function = nn.Softmax(dim =0)\n",
    "output = softmax_function(data)\n",
    "assert round(output[0].item(), 2) == 0.09\n",
    "output"
   ]
  },
  {
   "cell_type": "markdown",
   "metadata": {},
   "source": [
    "## Câu 2:"
   ]
  },
  {
   "cell_type": "code",
   "execution_count": 70,
   "metadata": {},
   "outputs": [
    {
     "data": {
      "text/plain": [
       "tensor([0.7054, 0.0351, 0.2595])"
      ]
     },
     "execution_count": 70,
     "metadata": {},
     "output_type": "execute_result"
    }
   ],
   "source": [
    "import torch\n",
    "import torch.nn as nn\n",
    "\n",
    "class MySoftmax(nn.Module):\n",
    "    def __init__(self):\n",
    "        super().__init__()\n",
    "    \n",
    "    def forward(self, x):\n",
    "        exp_x = torch.exp(x)\n",
    "        sum_exp_x = torch.sum(exp_x, dim=-1, keepdim=True)\n",
    "        return exp_x / sum_exp_x\n",
    "\n",
    "data = torch.Tensor([5, 2, 4])\n",
    "my_softmax = MySoftmax()\n",
    "output = my_softmax(data)\n",
    "assert round(output[-1].item(), 2) == 0.26\n",
    "output"
   ]
  },
  {
   "cell_type": "markdown",
   "metadata": {},
   "source": [
    "## Câu 3:"
   ]
  },
  {
   "cell_type": "code",
   "execution_count": 67,
   "metadata": {},
   "outputs": [
    {
     "data": {
      "text/plain": [
       "tensor([0., 0., nan])"
      ]
     },
     "execution_count": 67,
     "metadata": {},
     "output_type": "execute_result"
    }
   ],
   "source": [
    "import torch\n",
    "import torch.nn as nn\n",
    "\n",
    "class MySoftmax(nn.Module):\n",
    "    def __init__(self):\n",
    "        super().__init__()\n",
    "    \n",
    "    def forward(self, x):\n",
    "        x_exp = torch.exp(x)\n",
    "        partition = x_exp.sum(0, keepdims=True)\n",
    "        return x_exp / partition\n",
    "\n",
    "data = torch.Tensor([1, 2, 300000000])\n",
    "my_softmax = MySoftmax()\n",
    "output = my_softmax(data)\n",
    "assert round(output[0].item(), 2) == 0.0\n",
    "output"
   ]
  },
  {
   "cell_type": "markdown",
   "metadata": {},
   "source": [
    "## Câu 4:"
   ]
  },
  {
   "cell_type": "code",
   "execution_count": 71,
   "metadata": {},
   "outputs": [
    {
     "data": {
      "text/plain": [
       "tensor([0.0900, 0.2447, 0.6652])"
      ]
     },
     "execution_count": 71,
     "metadata": {},
     "output_type": "execute_result"
    }
   ],
   "source": [
    "import torch\n",
    "import torch.nn as nn\n",
    "\n",
    "class SoftmaxStable(nn.Module):\n",
    "    def __init__(self):\n",
    "        super().__init__()\n",
    "    \n",
    "    def forward(self, x):\n",
    "        x_max = torch.max(x, dim=0, keepdims=True)\n",
    "        x_exp = torch.exp(x - x_max.values)\n",
    "        partition = x_exp.sum(0, keepdims=True)\n",
    "        return x_exp / partition\n",
    "\n",
    "data = torch.Tensor([1, 2, 3])\n",
    "softmax_stable = SoftmaxStable()\n",
    "output = softmax_stable(data)\n",
    "assert round(output[-1].item(), 2) == 0.67\n",
    "output"
   ]
  },
  {
   "cell_type": "markdown",
   "metadata": {},
   "source": [
    "## Câu 5:"
   ]
  },
  {
   "cell_type": "code",
   "execution_count": 4,
   "metadata": {},
   "outputs": [
    {
     "data": {
      "text/plain": [
       "'Student - Name: studentZ2023 - Yob: 2011 - Grade: 6'"
      ]
     },
     "execution_count": 4,
     "metadata": {},
     "output_type": "execute_result"
    }
   ],
   "source": [
    "from abc import ABC, abstractmethod\n",
    "\n",
    "class Person(ABC):\n",
    "    def __init__(self, name:str, yob:int):\n",
    "        self._name = name\n",
    "        self._yob = yob\n",
    "    \n",
    "    def get_yob(self):\n",
    "        return self._yob\n",
    "    \n",
    "    @abstractmethod\n",
    "    def describe(self):\n",
    "        pass\n",
    "\n",
    "class Student(Person):\n",
    "    def __init__(self, name:str, yob:int, grade:str):\n",
    "        self._name = name\n",
    "        self._yob = yob\n",
    "        self._grade = grade\n",
    "\n",
    "    def describe(self):\n",
    "        return f'Student - Name: {self._name} - Yob: {self._yob} - Grade: {self._grade}'\n",
    "\n",
    "student1 = Student(name='studentZ2023', yob=2011, grade='6')\n",
    "assert student1._yob == 2011\n",
    "student1.describe()\n"
   ]
  },
  {
   "cell_type": "markdown",
   "metadata": {},
   "source": [
    "## Câu 6:"
   ]
  },
  {
   "cell_type": "code",
   "execution_count": 6,
   "metadata": {},
   "outputs": [
    {
     "data": {
      "text/plain": [
       "'Teacher - Name: teacherZ2023 - Yob: 1991 - Subject: History'"
      ]
     },
     "execution_count": 6,
     "metadata": {},
     "output_type": "execute_result"
    }
   ],
   "source": [
    "from abc import ABC, abstractmethod\n",
    "\n",
    "class Person(ABC):\n",
    "    def __init__(self, name:str, yob:int):\n",
    "        self._name = name\n",
    "        self._yob = yob\n",
    "    \n",
    "    def get_yob(self):\n",
    "        return self._yob\n",
    "    \n",
    "    @abstractmethod\n",
    "    def describe(self):\n",
    "        pass\n",
    "\n",
    "class Teacher(Person):\n",
    "    def __init__(self, name:str, yob:int, subject:str):\n",
    "        self._name = name\n",
    "        self._yob = yob\n",
    "        self._subject = subject\n",
    "\n",
    "    def describe(self):\n",
    "        return f'Teacher - Name: {self._name} - Yob: {self._yob} - Subject: {self._subject}'\n",
    "\n",
    "teacher1 = Teacher(name='teacherZ2023', yob=1991, subject='History')\n",
    "assert teacher1._yob == 1991\n",
    "teacher1.describe()"
   ]
  },
  {
   "cell_type": "markdown",
   "metadata": {},
   "source": [
    "## Câu 7:"
   ]
  },
  {
   "cell_type": "code",
   "execution_count": 8,
   "metadata": {},
   "outputs": [
    {
     "data": {
      "text/plain": [
       "'Doctor - Name: doctorZ2023 - Yob: 1981 - Subject: Endocrinologists'"
      ]
     },
     "execution_count": 8,
     "metadata": {},
     "output_type": "execute_result"
    }
   ],
   "source": [
    "from abc import ABC, abstractmethod\n",
    "\n",
    "class Person(ABC):\n",
    "    def __init__(self, name:str, yob:int):\n",
    "        self._name = name\n",
    "        self._yob = yob\n",
    "    \n",
    "    def get_yob(self):\n",
    "        return self._yob\n",
    "    \n",
    "    @abstractmethod\n",
    "    def describe(self):\n",
    "        pass\n",
    "\n",
    "class Doctor(Person):\n",
    "    def __init__(self, name:str, yob:int, specialist:str):\n",
    "        self._name = name\n",
    "        self._yob = yob\n",
    "        self._specialist = specialist\n",
    "\n",
    "    def describe(self):\n",
    "        return f'Doctor - Name: {self._name} - Yob: {self._yob} - Subject: {self._specialist}'\n",
    "\n",
    "doctor1 = Doctor(name='doctorZ2023', yob=1981, specialist='Endocrinologists')\n",
    "assert doctor1._yob == 1981\n",
    "doctor1.describe()"
   ]
  },
  {
   "cell_type": "markdown",
   "metadata": {},
   "source": [
    "## Câu 8:"
   ]
  },
  {
   "cell_type": "code",
   "execution_count": 15,
   "metadata": {},
   "outputs": [
    {
     "data": {
      "text/plain": [
       "2"
      ]
     },
     "execution_count": 15,
     "metadata": {},
     "output_type": "execute_result"
    }
   ],
   "source": [
    "class Ward:\n",
    "    def __init__(self, name:str):\n",
    "        self.__name = name\n",
    "        self.__listPeople = []\n",
    "\n",
    "    def add_person(self, person:Person):\n",
    "        self.__listPeople.append(person)\n",
    "    \n",
    "    def describe(self):\n",
    "        print(f'Ward Name: {self.__name}')\n",
    "        for p in self.__listPeople:\n",
    "            p.describe()\n",
    "\n",
    "    def count_doctor(self):\n",
    "        return sum(1 for person in self.__listPeople if isinstance(person, Doctor))\n",
    "\n",
    "student1 = Student(name='studentA', yob=2010, grade='7')\n",
    "teacher1 = Teacher(name='teacherA', yob=1969, subject=\"Math\")\n",
    "teacher2 = Teacher(name='teacherB', yob=1995, subject=\"History\")\n",
    "doctor1 = Doctor(name='doctorA', yob=1945, specialist=\"Endocrinologists\")\n",
    "doctor2 = Doctor(name='doctorB', yob=1975, specialist=\"Cardiologists\")\n",
    "ward1 = Ward(name=\"Ward1\")\n",
    "ward1.add_person(student1)\n",
    "ward1.add_person(teacher1)\n",
    "ward1.add_person(teacher2)\n",
    "ward1.add_person(doctor1)\n",
    "ward1.add_person(doctor2)\n",
    "ward1.count_doctor()"
   ]
  },
  {
   "cell_type": "markdown",
   "metadata": {},
   "source": [
    "## Câu 9:"
   ]
  },
  {
   "cell_type": "code",
   "execution_count": 18,
   "metadata": {},
   "outputs": [
    {
     "name": "stdout",
     "output_type": "stream",
     "text": [
      "False\n"
     ]
    }
   ],
   "source": [
    "class MyStack:\n",
    "    def __init__(self, capacity):\n",
    "        self.__capacity = capacity\n",
    "        self.__stack = []\n",
    "\n",
    "    def is_full(self):\n",
    "        return len(self.__stack) == self.__capacity\n",
    "    \n",
    "    def push(self, value):\n",
    "        if self.is_full():\n",
    "            raise OverflowError('Push to a full stack')\n",
    "        self.__stack.append(value)\n",
    "\n",
    "stack1 = MyStack(capacity=5)\n",
    "stack1.push(1)\n",
    "assert stack1.is_full() == False\n",
    "stack1.push(2)\n",
    "print(stack1.is_full())"
   ]
  },
  {
   "cell_type": "markdown",
   "metadata": {},
   "source": [
    "## Câu 10:"
   ]
  },
  {
   "cell_type": "code",
   "execution_count": 19,
   "metadata": {},
   "outputs": [
    {
     "name": "stdout",
     "output_type": "stream",
     "text": [
      "2\n"
     ]
    }
   ],
   "source": [
    "class MyStack:\n",
    "    def __init__(self, capacity):\n",
    "        self.__capacity = capacity\n",
    "        self.__stack = []\n",
    "\n",
    "    def is_full(self):\n",
    "        return len(self.__stack) == self.__capacity\n",
    "    \n",
    "    def push(self, value):\n",
    "        if self.is_full():\n",
    "            raise OverflowError('Push to a full stack')\n",
    "        self.__stack.append(value)\n",
    "\n",
    "    def is_empty(self):\n",
    "        return len(self.__stack) == 0\n",
    "\n",
    "    def pop(self):\n",
    "        if self.is_empty():\n",
    "            raise IndexError('Pop from an empty stack')\n",
    "        return self.__stack.pop(-1)\n",
    "    \n",
    "    def top(self):\n",
    "        if self.is_empty():\n",
    "            raise IndexError('Top from an empty stack')\n",
    "        return self.__stack[-1]\n",
    "\n",
    "stack1 = MyStack(capacity =5)\n",
    "stack1.push(1)\n",
    "assert stack1.is_full() == False\n",
    "stack1.push(2)\n",
    "print(stack1.top())"
   ]
  },
  {
   "cell_type": "markdown",
   "metadata": {},
   "source": [
    "## Câu 11:"
   ]
  },
  {
   "cell_type": "code",
   "execution_count": 21,
   "metadata": {},
   "outputs": [
    {
     "name": "stdout",
     "output_type": "stream",
     "text": [
      "False\n"
     ]
    }
   ],
   "source": [
    "class MyQueue:\n",
    "    def __init__(self, capacity):\n",
    "        self.__capacity = capacity\n",
    "        self.__queue = []\n",
    "\n",
    "    def is_full(self):\n",
    "        return len(self.__queue) == self.__capacity\n",
    "\n",
    "    def enqueue(self, value):\n",
    "        if self.is_full():\n",
    "            raise OverflowError(\"Enqueue to a full queue\")\n",
    "        self.__queue.append(value)\n",
    "\n",
    "queue1 = MyQueue(capacity =5)\n",
    "queue1.enqueue(1)\n",
    "assert queue1.is_full() == False\n",
    "queue1.enqueue(2)\n",
    "print(queue1.is_full())"
   ]
  },
  {
   "cell_type": "markdown",
   "metadata": {},
   "source": [
    "## Câu 12:"
   ]
  },
  {
   "cell_type": "code",
   "execution_count": 23,
   "metadata": {},
   "outputs": [
    {
     "name": "stdout",
     "output_type": "stream",
     "text": [
      "1\n"
     ]
    }
   ],
   "source": [
    "class MyQueue:\n",
    "    def __init__(self, capacity):\n",
    "        self.__capacity = capacity\n",
    "        self.__queue = []\n",
    "\n",
    "    def is_full(self):\n",
    "        return len(self.__queue) == self.__capacity\n",
    "\n",
    "    def enqueue(self, value):\n",
    "        if self.is_full():\n",
    "            raise OverflowError(\"Enqueue to a full queue\")\n",
    "        self.__queue.append(value)\n",
    "\n",
    "    def is_empty(self):\n",
    "        return len(self.__queue) == 0\n",
    "\n",
    "    def dequeue(self):\n",
    "        if self.is_empty():\n",
    "            raise IndexError(\"Dequeue from an empty queue\")\n",
    "        return self.__queue.pop(0)\n",
    "\n",
    "    def front(self):\n",
    "        if self.is_empty():\n",
    "            raise IndexError(\"Front from an empty queue\")\n",
    "        return self.__queue[0]\n",
    "\n",
    "queue1 = MyQueue(capacity =5)\n",
    "queue1.enqueue(1)\n",
    "assert queue1.is_full() == False\n",
    "queue1.enqueue(2)\n",
    "print(queue1.front())"
   ]
  },
  {
   "cell_type": "markdown",
   "metadata": {},
   "source": [
    "[EXERCISE MODULE 1- [Week 3 - 15/06/2024]](https://docs.google.com/forms/d/e/1FAIpQLSc8yq5vcW9Dlj3ycJrTpNZF1khKvsLVTu_xNAre28Ol7lzjRw/viewscore?viewscore=AE0zAgDqlmYwJ_J80QRspcUsxhqkPWt27HZ3uMHMNwm8rFVlMKJGx3KacUlJBs71tw)"
   ]
  }
 ],
 "metadata": {
  "kernelspec": {
   "display_name": "aio24_env",
   "language": "python",
   "name": "python3"
  },
  "language_info": {
   "codemirror_mode": {
    "name": "ipython",
    "version": 3
   },
   "file_extension": ".py",
   "mimetype": "text/x-python",
   "name": "python",
   "nbconvert_exporter": "python",
   "pygments_lexer": "ipython3",
   "version": "3.10.14"
  }
 },
 "nbformat": 4,
 "nbformat_minor": 2
}
