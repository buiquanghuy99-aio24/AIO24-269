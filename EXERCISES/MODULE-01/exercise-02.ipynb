{
 "cells": [
  {
   "cell_type": "markdown",
   "metadata": {},
   "source": [
    "# I. CÂU HỎI TỰ LUẬN"
   ]
  },
  {
   "cell_type": "markdown",
   "metadata": {},
   "source": [
    "---"
   ]
  },
  {
   "cell_type": "markdown",
   "metadata": {},
   "source": [
    "## 1. Cho một danh sách số nguyên `num_list` và một cửa sổ trượt có kích thước **k** (với k >=1) di chuyển sang trái, tìm số lớn nhất trong mỗi cửa sổ khi nó trượt một vị trí sang phải"
   ]
  },
  {
   "cell_type": "markdown",
   "metadata": {},
   "source": [
    "<div style=\"border-bottom: 1px dashed white;\"></div>"
   ]
  },
  {
   "cell_type": "markdown",
   "metadata": {},
   "source": [
    "Cho list các số nguyên `num_list` và một sliding window có kích thước **size k** di chuyển từ trái sang phải. Mỗi lần dịch chuyển 1 vị trí sang phải có thể nhìn thấy được k số trong `num_list` và tìm số lớn nhất trong k số này sau mỗi lần trượt, k phải lớn hơn hoặc bằng 1"
   ]
  },
  {
   "cell_type": "code",
   "execution_count": 30,
   "metadata": {},
   "outputs": [
    {
     "name": "stdout",
     "output_type": "stream",
     "text": [
      "k size must be greater than or equal to 1\n",
      "k size must be an integer\n",
      "[]\n",
      "[5, 5, 5, 5, 10, 12, 33, 33]\n"
     ]
    }
   ],
   "source": [
    "def sliding_window_max(nums, k):\n",
    "    # Check if k is an integer and greater than or equal to 1\n",
    "    if not isinstance(k, int):\n",
    "        return 'k size must be an integer'\n",
    "    if k < 1:\n",
    "        return 'k size must be greater than or equal to 1'\n",
    "    \n",
    "    # Check if nums is empty\n",
    "    if not nums:\n",
    "        return []\n",
    "\n",
    "    result = []\n",
    "    for i in range(len(nums) - k + 1):\n",
    "        sliding_window = nums[i:i + k]\n",
    "        max_val = max(sliding_window)\n",
    "        result.append(max_val)\n",
    "    \n",
    "    return result\n",
    "\n",
    "# Example usage     \n",
    "print(sliding_window_max([], 0))\n",
    "print(sliding_window_max([], 3.0))\n",
    "print(sliding_window_max([], 3))\n",
    "print(sliding_window_max([3, 4, 5, 1, -44, 5, 10, 12, 33, 1], 3))"
   ]
  },
  {
   "cell_type": "markdown",
   "metadata": {},
   "source": [
    "<div style=\"border-bottom: 1px dashed white;\"></div>"
   ]
  },
  {
   "cell_type": "code",
   "execution_count": 14,
   "metadata": {},
   "outputs": [],
   "source": [
    "num_list = [3, 4, 5, 1, -44, 5, 10, 12, 33, 1]"
   ]
  },
  {
   "cell_type": "code",
   "execution_count": 8,
   "metadata": {},
   "outputs": [],
   "source": [
    "k = 3\n",
    "\n",
    "if k < 1:\n",
    "    print('k must be greater than or equal to 1')"
   ]
  },
  {
   "cell_type": "code",
   "execution_count": 9,
   "metadata": {},
   "outputs": [
    {
     "name": "stdout",
     "output_type": "stream",
     "text": [
      "0 : Sliding window is: [3, 4, 5]\n",
      "1 : Sliding window is: [4, 5, 1]\n",
      "2 : Sliding window is: [5, 1, -44]\n",
      "3 : Sliding window is: [1, -44, 5]\n",
      "4 : Sliding window is: [-44, 5, 10]\n",
      "5 : Sliding window is: [5, 10, 12]\n",
      "6 : Sliding window is: [10, 12, 33]\n",
      "7 : Sliding window is: [12, 33, 1]\n",
      "8 : Sliding window is: [33, 1]\n",
      "9 : Sliding window is: [1]\n"
     ]
    }
   ],
   "source": [
    "sliding_window = []\n",
    "for i in range(len(num_list)):\n",
    "    sliding_window = num_list[i:i+k]\n",
    "    print(f'{i} : Sliding window is: {sliding_window}')"
   ]
  },
  {
   "cell_type": "code",
   "execution_count": 11,
   "metadata": {},
   "outputs": [
    {
     "name": "stdout",
     "output_type": "stream",
     "text": [
      "0 : Sliding window is: [3, 4, 5]\n",
      "1 : Sliding window is: [4, 5, 1]\n",
      "2 : Sliding window is: [5, 1, -44]\n",
      "3 : Sliding window is: [1, -44, 5]\n",
      "4 : Sliding window is: [-44, 5, 10]\n",
      "5 : Sliding window is: [5, 10, 12]\n",
      "6 : Sliding window is: [10, 12, 33]\n",
      "7 : Sliding window is: [12, 33, 1]\n"
     ]
    }
   ],
   "source": [
    "sliding_window = []\n",
    "for i in range(len(num_list)):\n",
    "    if i+k > len(num_list):\n",
    "        break \n",
    "    sliding_window = num_list[i:i+k]\n",
    "    print(f'{i} : Sliding window is: {sliding_window}')"
   ]
  },
  {
   "cell_type": "code",
   "execution_count": 12,
   "metadata": {},
   "outputs": [
    {
     "name": "stdout",
     "output_type": "stream",
     "text": [
      "33\n"
     ]
    }
   ],
   "source": [
    "max_value = 0\n",
    "for value in num_list:\n",
    "    if value > max_value:\n",
    "        max_value = value\n",
    "\n",
    "print(max_value)"
   ]
  },
  {
   "cell_type": "markdown",
   "metadata": {},
   "source": [
    "---"
   ]
  },
  {
   "cell_type": "markdown",
   "metadata": {},
   "source": [
    "## 2. Viết function trả về một dictionary đếm số lượng chữ xuất hiện trong một từ, với key là chữ cái và value là số lần xuất hiện"
   ]
  },
  {
   "cell_type": "markdown",
   "metadata": {},
   "source": [
    "<div style=\"border-bottom: 1px dashed white;\"></div>"
   ]
  },
  {
   "cell_type": "code",
   "execution_count": 51,
   "metadata": {},
   "outputs": [
    {
     "name": "stdout",
     "output_type": "stream",
     "text": [
      "{'H': 1, 'a': 1, 'e': 1, 'i': 1, 'n': 1, 'p': 2, 's': 2}\n",
      "{'e': 1, 'i': 1, 'l': 1, 'm': 1, 's': 2}\n"
     ]
    }
   ],
   "source": [
    "def count_characters(word):\n",
    "    # Initialize an empty dictionary to store character counts\n",
    "    characters_dict = {}\n",
    "\n",
    "    # Iterate over each character in the word\n",
    "    for char in word:\n",
    "        if char not in characters_dict:\n",
    "            characters_dict[char] = 1\n",
    "        else:\n",
    "            characters_dict[char] += 1\n",
    "    \n",
    "    # Create a sorted dictionary by keys\n",
    "    sorted_characters_dict = {key: characters_dict[key] for key in sorted(characters_dict)}\n",
    "\n",
    "    return sorted_characters_dict\n",
    "\n",
    "# Example usage\n",
    "print(count_characters('Happiness'))\n",
    "print(count_characters('smiles'))"
   ]
  },
  {
   "cell_type": "markdown",
   "metadata": {},
   "source": [
    "<div style=\"border-bottom: 1px dashed white;\"></div>"
   ]
  },
  {
   "cell_type": "code",
   "execution_count": 32,
   "metadata": {},
   "outputs": [],
   "source": [
    "string = 'Happiness'"
   ]
  },
  {
   "cell_type": "code",
   "execution_count": 34,
   "metadata": {},
   "outputs": [
    {
     "name": "stdout",
     "output_type": "stream",
     "text": [
      "['H', 'a', 'p', 'i', 'n', 'e', 's']\n"
     ]
    }
   ],
   "source": [
    "characters = []\n",
    "for char in string:\n",
    "    if char not in characters:\n",
    "        characters.append(char)\n",
    "\n",
    "print(characters)"
   ]
  },
  {
   "cell_type": "code",
   "execution_count": 43,
   "metadata": {},
   "outputs": [
    {
     "name": "stdout",
     "output_type": "stream",
     "text": [
      "{'H': 1, 'a': 1, 'p': 2, 'i': 1, 'n': 1, 'e': 1, 's': 2}\n"
     ]
    }
   ],
   "source": [
    "characters = {}\n",
    "for char in string:\n",
    "    if char not in characters:\n",
    "        characters[char] = 1\n",
    "    else:\n",
    "        characters[char] += 1\n",
    "\n",
    "print(characters)"
   ]
  },
  {
   "cell_type": "markdown",
   "metadata": {},
   "source": [
    "---"
   ]
  },
  {
   "cell_type": "markdown",
   "metadata": {},
   "source": [
    "## 3. Viết function đọc các câu trong một file txt, đếm số lượng các từ xuất hiện và trả về một dictionary với key là từ và value là số lần từ đó xuất hiện"
   ]
  },
  {
   "cell_type": "code",
   "execution_count": 98,
   "metadata": {},
   "outputs": [
    {
     "name": "stdout",
     "output_type": "stream",
     "text": [
      "{'a': 7, 'again': 1, 'and': 1, 'are': 1, 'at': 1, 'be': 1, 'become': 2, 'bricks': 1, 'busy': 1, 'but': 1, 'came': 1, 'can': 3, 'cannot': 1, 'change': 1, 'comes': 2, 'conquers': 1, 'courage': 1, 'day': 1, 'different': 1, 'employed': 1, 'enough': 1, 'everything': 1, 'firm': 1, 'for': 3, 'foundation': 1, 'from': 1, 'get': 2, 'have': 1, 'he': 1, 'help': 1, 'him': 1, 'himself': 1, 'his': 2, 'if': 1, 'in': 4, 'is': 3, 'it': 2, 'just': 2, 'kind': 1, 'lay': 1, 'life': 2, 'looking': 1, 'majority': 1, 'makes': 1, 'man': 6, 'mightiest': 1, 'mistakes': 1, 'morning': 1, 'not': 1, 'of': 4, 'one': 4, 'opportunity': 1, 'other': 1, 'others': 1, 'people': 1, 'positive': 1, 'problems': 1, 'profit': 1, 'rather': 1, 'ready': 1, 'secret': 1, 'small': 1, 'solve': 1, 'success': 3, 'successful': 2, 'the': 5, 'them': 1, 'they': 1, 'thinking': 1, 'those': 1, 'thought': 1, 'thrown': 1, 'to': 3, 'too': 1, 'try': 2, 'up': 1, 'usually': 1, 'value': 1, 'want': 2, 'warrior': 1, 'way': 1, 'we': 3, 'what': 1, 'when': 2, 'who': 3, 'whole': 1, 'will': 2, 'with': 4, 'you': 3, 'your': 1}\n"
     ]
    }
   ],
   "source": [
    "def count_words(file_path):\n",
    "    try:\n",
    "        # Open the file for reading\n",
    "        with open(file_path, 'r') as file:\n",
    "            string = file.read()\n",
    "    # Handle the FileNotFoundError exception\n",
    "    except FileNotFoundError:\n",
    "        # Print an error message and raise the exception again\n",
    "        print(f\"Error: File '{file_path}' not found.\")\n",
    "        raise\n",
    "\n",
    "    # Initialize an empty dictionary to store word counts\n",
    "    words_dict = {}\n",
    "\n",
    "    # Split the string into words\n",
    "    words = string.split() \n",
    "    \n",
    "    # Iterate through each word\n",
    "    for word in words:\n",
    "        word_lower = word.lower() # Convert each word to lowercase\n",
    "        # If the word is not in the dictionary, add it with count 1\n",
    "        if word_lower not in words_dict:\n",
    "            words_dict[word_lower] = 1\n",
    "        # If the word is already in the dictionary, increment its count\n",
    "        else:\n",
    "            words_dict[word_lower] += 1\n",
    "\n",
    "    # Create a new dictionary with sorted keys\n",
    "    sorted_words_dict = {key: words_dict[key] for key in sorted(words_dict)}\n",
    "\n",
    "    # Return the dictionary with sorted word counts\n",
    "    return sorted_words_dict\n",
    "\n",
    "\n",
    "# Example usage\n",
    "result = count_words('exercise-02-3_data.txt')\n",
    "print(result)"
   ]
  },
  {
   "cell_type": "markdown",
   "metadata": {},
   "source": [
    "<div style=\"border-bottom: 1px dashed white;\"></div>"
   ]
  },
  {
   "cell_type": "code",
   "execution_count": 58,
   "metadata": {},
   "outputs": [],
   "source": [
    "file_path = 'exercise-02-3_data.txt'"
   ]
  },
  {
   "cell_type": "code",
   "execution_count": 62,
   "metadata": {},
   "outputs": [
    {
     "name": "stdout",
     "output_type": "stream",
     "text": [
      "He who conquers himself is the mightiest warrior\n",
      "Try not to become a man of success but rather become a man of value\n",
      "One man with courage makes a majority\n",
      "One secret of success in life is for a man to be ready for his opportunity when it comes\n",
      "The successful man will profit from his mistakes and try again in a different way\n",
      "A successful man is one who can lay a firm foundation with the bricks others have thrown at him\n",
      "Success usually comes to those who are too busy looking for it\n",
      "We cannot solve problems with the kind of thinking we employed when we came up with them\n",
      "Just one small positive thought in the morning can change your whole day\n",
      "You can get everything in life you want if you will just help enough other people get what they want\n"
     ]
    }
   ],
   "source": [
    "with open(file_path, 'r') as file:\n",
    "    data = file.read()\n",
    "\n",
    "print(data)"
   ]
  },
  {
   "cell_type": "code",
   "execution_count": 99,
   "metadata": {},
   "outputs": [
    {
     "data": {
      "text/plain": [
       "['He', 'who', 'conquers', 'himself', 'is']"
      ]
     },
     "execution_count": 99,
     "metadata": {},
     "output_type": "execute_result"
    }
   ],
   "source": [
    "words = data.split()[:5]\n",
    "words"
   ]
  },
  {
   "cell_type": "code",
   "execution_count": 90,
   "metadata": {},
   "outputs": [
    {
     "data": {
      "text/plain": [
       "{'a': 7,\n",
       " 'again': 1,\n",
       " 'and': 1,\n",
       " 'are': 1,\n",
       " 'at': 1,\n",
       " 'be': 1,\n",
       " 'become': 2,\n",
       " 'bricks': 1,\n",
       " 'busy': 1,\n",
       " 'but': 1,\n",
       " 'came': 1,\n",
       " 'can': 3,\n",
       " 'cannot': 1,\n",
       " 'change': 1,\n",
       " 'comes': 2,\n",
       " 'conquers': 1,\n",
       " 'courage': 1,\n",
       " 'day': 1,\n",
       " 'different': 1,\n",
       " 'employed': 1,\n",
       " 'enough': 1,\n",
       " 'everything': 1,\n",
       " 'firm': 1,\n",
       " 'for': 3,\n",
       " 'foundation': 1,\n",
       " 'from': 1,\n",
       " 'get': 2,\n",
       " 'have': 1,\n",
       " 'he': 1,\n",
       " 'help': 1,\n",
       " 'him': 1,\n",
       " 'himself': 1,\n",
       " 'his': 2,\n",
       " 'if': 1,\n",
       " 'in': 4,\n",
       " 'is': 3,\n",
       " 'it': 2,\n",
       " 'just': 2,\n",
       " 'kind': 1,\n",
       " 'lay': 1,\n",
       " 'life': 2,\n",
       " 'looking': 1,\n",
       " 'majority': 1,\n",
       " 'makes': 1,\n",
       " 'man': 6,\n",
       " 'mightiest': 1,\n",
       " 'mistakes': 1,\n",
       " 'morning': 1,\n",
       " 'not': 1,\n",
       " 'of': 4,\n",
       " 'one': 4,\n",
       " 'opportunity': 1,\n",
       " 'other': 1,\n",
       " 'others': 1,\n",
       " 'people': 1,\n",
       " 'positive': 1,\n",
       " 'problems': 1,\n",
       " 'profit': 1,\n",
       " 'rather': 1,\n",
       " 'ready': 1,\n",
       " 'secret': 1,\n",
       " 'small': 1,\n",
       " 'solve': 1,\n",
       " 'success': 3,\n",
       " 'successful': 2,\n",
       " 'the': 5,\n",
       " 'them': 1,\n",
       " 'they': 1,\n",
       " 'thinking': 1,\n",
       " 'those': 1,\n",
       " 'thought': 1,\n",
       " 'thrown': 1,\n",
       " 'to': 3,\n",
       " 'too': 1,\n",
       " 'try': 2,\n",
       " 'up': 1,\n",
       " 'usually': 1,\n",
       " 'value': 1,\n",
       " 'want': 2,\n",
       " 'warrior': 1,\n",
       " 'way': 1,\n",
       " 'we': 3,\n",
       " 'what': 1,\n",
       " 'when': 2,\n",
       " 'who': 3,\n",
       " 'whole': 1,\n",
       " 'will': 2,\n",
       " 'with': 4,\n",
       " 'you': 3,\n",
       " 'your': 1}"
      ]
     },
     "execution_count": 90,
     "metadata": {},
     "output_type": "execute_result"
    }
   ],
   "source": [
    "def count_words(string):\n",
    "    words_dict = {}\n",
    "\n",
    "    words = string.split()\n",
    "    for word in words:\n",
    "        word_lower = word.lower()\n",
    "        if word_lower not in words_dict:\n",
    "            words_dict[word_lower] = 1\n",
    "        else:\n",
    "            words_dict[word_lower] += 1\n",
    "\n",
    "    sorted_words_dict = {key: words_dict[key] for key in sorted(words_dict)}\n",
    "\n",
    "    return sorted_words_dict\n",
    "\n",
    "count_words(data)"
   ]
  },
  {
   "cell_type": "markdown",
   "metadata": {},
   "source": [
    "---"
   ]
  },
  {
   "cell_type": "markdown",
   "metadata": {},
   "source": [
    "## 4. Viết chương trình tính khoảng cách chỉnh sửa tối thiểu Levenshtein"
   ]
  },
  {
   "cell_type": "code",
   "execution_count": 19,
   "metadata": {},
   "outputs": [
    {
     "name": "stdout",
     "output_type": "stream",
     "text": [
      "3\n",
      "1\n"
     ]
    }
   ],
   "source": [
    "def levenshtein_distance(a, b):\n",
    "    if len(a) < len(b):\n",
    "        return levenshtein_distance(b, a)\n",
    "    \n",
    "    if len(b) == 0:\n",
    "        return len(a)\n",
    "    \n",
    "    a = ' ' + a\n",
    "    b = ' ' + b\n",
    "\n",
    "    lev_ab = []\n",
    "\n",
    "    for i in range(len(b)):\n",
    "        row = [0 for i in range(len(a))]\n",
    "        lev_ab.append(row)\n",
    "    \n",
    "    for i in range(len(lev_ab)):\n",
    "        for j in range(len(lev_ab[i])):\n",
    "            if min(i, j) == 0:\n",
    "                lev_ab[i][j] = max(i, j)\n",
    "            else:\n",
    "                deletions = lev_ab[i-1][j] + 1\n",
    "                insertions = lev_ab[i][j-1] + 1\n",
    "                if b[i] == a[j]:\n",
    "                    substitutions = lev_ab[i-1][j-1]\n",
    "                else:\n",
    "                    substitutions = lev_ab[i-1][j-1] + 1\n",
    "                lev_ab[i][j] = min(deletions, insertions, substitutions)\n",
    "    \n",
    "    return lev_ab[-1][-1]\n",
    "\n",
    "print(levenshtein_distance('sitting', 'kitten'))\n",
    "print(levenshtein_distance('yu', 'you'))"
   ]
  },
  {
   "cell_type": "code",
   "execution_count": 20,
   "metadata": {},
   "outputs": [
    {
     "name": "stdout",
     "output_type": "stream",
     "text": [
      "3\n",
      "1\n"
     ]
    }
   ],
   "source": [
    "def levenshtein_distance(a, b):\n",
    "    a = ' ' + a\n",
    "    b = ' ' + b\n",
    "\n",
    "    first_row = list(range(len(a)))\n",
    "    \n",
    "    for i in range(len(b)):\n",
    "        if i == 0:\n",
    "            prev_row = first_row\n",
    "        else:\n",
    "            prev_row = current_row\n",
    "        current_row = [0]*len(a)\n",
    "        current_row[0] = i\n",
    "        for j in range(len(a)):\n",
    "            if j > 0:\n",
    "                deletions = prev_row[j] + 1\n",
    "                insertions = current_row[j-1] + 1\n",
    "                if b[i] == a[j]:\n",
    "                    substitutions = prev_row[j-1]\n",
    "                else:\n",
    "                    substitutions = prev_row[j-1] + 1\n",
    "                current_row[j] = min(deletions, insertions, substitutions)\n",
    "    \n",
    "    return current_row[-1]\n",
    "\n",
    "print(levenshtein_distance('sitting', 'kitten'))\n",
    "print(levenshtein_distance('yu', 'you'))"
   ]
  },
  {
   "cell_type": "markdown",
   "metadata": {},
   "source": [
    "<div style=\"border-bottom: 1px dashed white;\"></div>"
   ]
  },
  {
   "cell_type": "code",
   "execution_count": 33,
   "metadata": {},
   "outputs": [
    {
     "data": {
      "text/plain": [
       "[0, 0, 0, 0, 0, 0, 0]"
      ]
     },
     "execution_count": 33,
     "metadata": {},
     "output_type": "execute_result"
    }
   ],
   "source": [
    "b = 'kitten'\n",
    "\n",
    "col_lst = [0 for i in range(len(b)+1)]\n",
    "col_lst"
   ]
  },
  {
   "cell_type": "code",
   "execution_count": 5,
   "metadata": {},
   "outputs": [
    {
     "data": {
      "text/plain": [
       "[[0, 0, 0, 0, 0, 0, 0],\n",
       " [0, 0, 0, 0, 0, 0, 0],\n",
       " [0, 0, 0, 0, 0, 0, 0],\n",
       " [0, 0, 0, 0, 0, 0, 0],\n",
       " [0, 0, 0, 0, 0, 0, 0],\n",
       " [0, 0, 0, 0, 0, 0, 0],\n",
       " [0, 0, 0, 0, 0, 0, 0],\n",
       " [0, 0, 0, 0, 0, 0, 0]]"
      ]
     },
     "execution_count": 5,
     "metadata": {},
     "output_type": "execute_result"
    }
   ],
   "source": [
    "a = 'kitten'\n",
    "b = 'sitting'\n",
    "\n",
    "a = ' ' + a\n",
    "b = ' ' + b\n",
    "\n",
    "lev_ab = []\n",
    "\n",
    "for i in range(len(b)):\n",
    "    row = [0 for i in range(len(a))]\n",
    "    lev_ab.append(row)\n",
    "\n",
    "lev_ab"
   ]
  },
  {
   "cell_type": "code",
   "execution_count": 8,
   "metadata": {},
   "outputs": [
    {
     "data": {
      "text/plain": [
       "[[0, 1, 2, 3, 4, 5, 6],\n",
       " [1, 1, 2, 3, 4, 5, 6],\n",
       " [2, 2, 1, 2, 3, 4, 5],\n",
       " [3, 3, 2, 1, 2, 3, 4],\n",
       " [4, 4, 3, 2, 1, 2, 3],\n",
       " [5, 5, 4, 3, 2, 2, 3],\n",
       " [6, 6, 5, 4, 3, 3, 2],\n",
       " [7, 7, 6, 5, 4, 4, 3]]"
      ]
     },
     "execution_count": 8,
     "metadata": {},
     "output_type": "execute_result"
    }
   ],
   "source": [
    "for i in range(len(lev_ab)):\n",
    "    for j in range(len(lev_ab[i])):\n",
    "        if min(i, j) == 0:\n",
    "            lev_ab[i][j] = max(i, j)\n",
    "        else:\n",
    "            deletions = lev_ab[i-1][j] + 1\n",
    "            insertions = lev_ab[i][j-1] + 1\n",
    "            if b[i] == a[j]:\n",
    "                substitutions = lev_ab[i-1][j-1]\n",
    "            else:\n",
    "                substitutions = lev_ab[i-1][j-1] + 1\n",
    "            lev_ab[i][j] = min(deletions, insertions, substitutions)\n",
    "\n",
    "lev_ab"
   ]
  },
  {
   "cell_type": "code",
   "execution_count": 39,
   "metadata": {},
   "outputs": [
    {
     "name": "stdout",
     "output_type": "stream",
     "text": [
      "3\n"
     ]
    }
   ],
   "source": [
    "print(lev_ab[len(a)-1][len(b)-1])"
   ]
  },
  {
   "cell_type": "markdown",
   "metadata": {},
   "source": [
    "---"
   ]
  },
  {
   "cell_type": "markdown",
   "metadata": {},
   "source": [
    "# II. CÂU HỎI TRẮC NGHIỆM"
   ]
  },
  {
   "cell_type": "markdown",
   "metadata": {},
   "source": [
    "---"
   ]
  },
  {
   "cell_type": "markdown",
   "metadata": {},
   "source": [
    "## Câu 1:"
   ]
  },
  {
   "cell_type": "code",
   "execution_count": 2,
   "metadata": {},
   "outputs": [
    {
     "name": "stdout",
     "output_type": "stream",
     "text": [
      "[5, 5, 5, 5, 10, 12, 33, 33]\n"
     ]
    }
   ],
   "source": [
    "def max_kernel(num_list, k):\n",
    "    result = []\n",
    "    for i in range(len(num_list) - k + 1):\n",
    "        sliding_window = num_list[i:i + k]\n",
    "        max_val = max(sliding_window)\n",
    "        result.append(max_val)\n",
    "    \n",
    "    return result\n",
    "\n",
    "assert max_kernel([3, 4, 5, 1, -44], 3) == [5, 5, 5]\n",
    "num_list = [3, 4, 5, 1, -44, 5, 10, 12, 33, 1]\n",
    "k = 3\n",
    "print(max_kernel(num_list, k))"
   ]
  },
  {
   "cell_type": "markdown",
   "metadata": {},
   "source": [
    "## Câu 2:"
   ]
  },
  {
   "cell_type": "code",
   "execution_count": 5,
   "metadata": {},
   "outputs": [
    {
     "name": "stdout",
     "output_type": "stream",
     "text": [
      "{'s': 2, 'm': 1, 'i': 1, 'l': 1, 'e': 1}\n"
     ]
    }
   ],
   "source": [
    "def characters_count(word):\n",
    "    characters_statistic = {}\n",
    "\n",
    "    for char in word:\n",
    "        if char not in characters_statistic:\n",
    "            characters_statistic[char] = 1\n",
    "        else:\n",
    "            characters_statistic[char] += 1\n",
    "\n",
    "    return characters_statistic\n",
    "\n",
    "assert characters_count(\"Baby\") == {'B': 1, 'a': 1, 'b': 1, 'y': 1}\n",
    "print(characters_count('smiles'))"
   ]
  },
  {
   "cell_type": "markdown",
   "metadata": {},
   "source": [
    "## Câu 3:"
   ]
  },
  {
   "cell_type": "code",
   "execution_count": 7,
   "metadata": {},
   "outputs": [
    {
     "name": "stdout",
     "output_type": "stream",
     "text": [
      "6\n"
     ]
    }
   ],
   "source": [
    "def count_word(file_path):\n",
    "    \n",
    "    with open(file_path, 'r') as file:\n",
    "            string = file.read()\n",
    "\n",
    "    counter = {}\n",
    "\n",
    "    words = string.split() \n",
    "    \n",
    "    for word in words:\n",
    "        word_lower = word.lower()\n",
    "        if word_lower not in counter:\n",
    "            counter[word_lower] = 1\n",
    "        else:\n",
    "            counter[word_lower] += 1\n",
    "\n",
    "    return counter\n",
    "\n",
    "file_path = 'exercise-02-3_data.txt'\n",
    "result = count_word(file_path)\n",
    "assert result['who'] == 3\n",
    "print(result['man'])"
   ]
  },
  {
   "cell_type": "markdown",
   "metadata": {},
   "source": [
    "## Câu 4:"
   ]
  },
  {
   "cell_type": "code",
   "execution_count": 13,
   "metadata": {},
   "outputs": [
    {
     "name": "stdout",
     "output_type": "stream",
     "text": [
      "3\n"
     ]
    }
   ],
   "source": [
    "def levenshtein_distance(token1, token2):\n",
    "\n",
    "    first_row = list(range(len(token1)+1))\n",
    "    \n",
    "    for i in range(len(token2)+1):\n",
    "        if i == 0:\n",
    "            prev_row = first_row\n",
    "        else:\n",
    "            prev_row = current_row\n",
    "        current_row = [0]*(len(token1)+1)\n",
    "        current_row[0] = i\n",
    "        for j in range(len(token1)+1):\n",
    "            if j > 0:\n",
    "                deletions = prev_row[j] + 1\n",
    "                insertions = current_row[j-1] + 1\n",
    "                if token2[i-1] == token1[j-1]:\n",
    "                    substitutions = prev_row[j-1]\n",
    "                else:\n",
    "                    substitutions = prev_row[j-1] + 1\n",
    "                current_row[j] = min(deletions, insertions, substitutions)\n",
    "    \n",
    "    return current_row[-1]\n",
    "\n",
    "assert levenshtein_distance('hi', 'hello') == 4.0\n",
    "print(levenshtein_distance('hola', 'hello'))\n"
   ]
  },
  {
   "cell_type": "markdown",
   "metadata": {},
   "source": [
    "## Câu 5:"
   ]
  },
  {
   "cell_type": "code",
   "execution_count": 16,
   "metadata": {},
   "outputs": [
    {
     "name": "stdout",
     "output_type": "stream",
     "text": [
      "True\n"
     ]
    }
   ],
   "source": [
    "def check_the_number(N):\n",
    "    list_of_numbers = []\n",
    "    results = \"\"\n",
    "    for i in range(1, 5):\n",
    "        list_of_numbers.append(i)\n",
    "    if N in list_of_numbers:\n",
    "        results = 'True'\n",
    "    if N not in list_of_numbers:\n",
    "        results = 'False'\n",
    "    return results\n",
    "\n",
    "N = 7\n",
    "assert check_the_number(N) == 'False'\n",
    "N = 2\n",
    "results = check_the_number(N)\n",
    "print(results)"
   ]
  },
  {
   "cell_type": "markdown",
   "metadata": {},
   "source": [
    "## Câu 6:"
   ]
  },
  {
   "cell_type": "code",
   "execution_count": 17,
   "metadata": {},
   "outputs": [
    {
     "name": "stdout",
     "output_type": "stream",
     "text": [
      "[2, 2, 2, 1, 1]\n"
     ]
    }
   ],
   "source": [
    "def my_function(data, max, min):\n",
    "    result = []\n",
    "    for i in data:\n",
    "        if i < min:\n",
    "            result.append(min)\n",
    "        elif i > max:\n",
    "            result.append(max)\n",
    "        else:\n",
    "            result.append(i)\n",
    "    return result\n",
    "\n",
    "my_list = [5, 2, 5, 0, 1]\n",
    "max = 1\n",
    "min = 0\n",
    "assert my_function(max = max, min = min, data = my_list) == [1, 1, 1, 0, 1]\n",
    "my_list = [10, 2, 5, 0, 1]\n",
    "max = 2\n",
    "min = 1\n",
    "print(my_function(max = max, min = min, data = my_list))"
   ]
  },
  {
   "cell_type": "markdown",
   "metadata": {},
   "source": [
    "## Câu 7:"
   ]
  },
  {
   "cell_type": "code",
   "execution_count": 18,
   "metadata": {},
   "outputs": [
    {
     "name": "stdout",
     "output_type": "stream",
     "text": [
      "[1, 2, 3, 4, 0, 0]\n"
     ]
    }
   ],
   "source": [
    "def my_function(x, y):\n",
    "    x.extend(y)\n",
    "    return x\n",
    "\n",
    "list_num1 = ['a', 2, 5]\n",
    "list_num2 = [1, 1]\n",
    "list_num3 = [0, 0]\n",
    "\n",
    "assert my_function(list_num1, my_function(list_num2, list_num3)) == ['a', 2, 5, 1, 1, 0, 0]\n",
    "\n",
    "list_num1 = [1, 2]\n",
    "list_num2 = [3, 4]\n",
    "list_num3 = [0, 0]\n",
    "\n",
    "print(my_function(list_num1, my_function(list_num2, list_num3)))"
   ]
  },
  {
   "cell_type": "markdown",
   "metadata": {},
   "source": [
    "## Câu 8:"
   ]
  },
  {
   "cell_type": "code",
   "execution_count": 19,
   "metadata": {},
   "outputs": [
    {
     "name": "stdout",
     "output_type": "stream",
     "text": [
      "-1\n"
     ]
    }
   ],
   "source": [
    "def my_function(n):\n",
    "    min = 0\n",
    "    for value in n:\n",
    "        if value < min:\n",
    "            min = value\n",
    "    return min\n",
    "\n",
    "my_list = [1, 22, 93, -100]\n",
    "assert my_function(my_list) == -100\n",
    "\n",
    "my_list = [1, 2, 3, -1]\n",
    "print(my_function(my_list))"
   ]
  },
  {
   "cell_type": "markdown",
   "metadata": {},
   "source": [
    "## Câu 9:"
   ]
  },
  {
   "cell_type": "code",
   "execution_count": 20,
   "metadata": {},
   "outputs": [
    {
     "name": "stdout",
     "output_type": "stream",
     "text": [
      "9\n"
     ]
    }
   ],
   "source": [
    "def my_function(n):\n",
    "    max = 0\n",
    "    for value in n:\n",
    "        if value > max:\n",
    "            max = value\n",
    "    return max\n",
    "\n",
    "my_list = [1001, 9, 100, 0]\n",
    "assert my_function(my_list) == 1001\n",
    "\n",
    "my_list = [1, 9, 9, 0]\n",
    "print(my_function(my_list))"
   ]
  },
  {
   "cell_type": "markdown",
   "metadata": {},
   "source": [
    "## Câu 10:"
   ]
  },
  {
   "cell_type": "code",
   "execution_count": 24,
   "metadata": {},
   "outputs": [
    {
     "name": "stdout",
     "output_type": "stream",
     "text": [
      "True\n"
     ]
    }
   ],
   "source": [
    "def My_function(integers, number = 1):\n",
    "    return any(element == number for element in integers)\n",
    "\n",
    "my_list = [1, 3, 9, 4]\n",
    "assert My_function(my_list, -1) == False\n",
    "\n",
    "my_list = [1, 2, 3, 4]\n",
    "print(My_function(my_list, 2))"
   ]
  },
  {
   "cell_type": "markdown",
   "metadata": {},
   "source": [
    "<div style=\"border-bottom: 1px dashed white;\"></div>"
   ]
  },
  {
   "cell_type": "code",
   "execution_count": 25,
   "metadata": {},
   "outputs": [
    {
     "name": "stdout",
     "output_type": "stream",
     "text": [
      "[True, False, False, False]\n"
     ]
    },
    {
     "data": {
      "text/plain": [
       "True"
      ]
     },
     "execution_count": 25,
     "metadata": {},
     "output_type": "execute_result"
    }
   ],
   "source": [
    "my_list = [1, 2, 3, 4]\n",
    "\n",
    "number = 1\n",
    "\n",
    "result = []\n",
    "for element in my_list:\n",
    "    if element == number:\n",
    "        result.append(True)\n",
    "    else:\n",
    "        result.append(False)\n",
    "\n",
    "print(result)\n",
    "\n",
    "any(result)"
   ]
  },
  {
   "cell_type": "code",
   "execution_count": 26,
   "metadata": {},
   "outputs": [
    {
     "name": "stdout",
     "output_type": "stream",
     "text": [
      "[True, False, False, False]\n"
     ]
    },
    {
     "data": {
      "text/plain": [
       "True"
      ]
     },
     "execution_count": 26,
     "metadata": {},
     "output_type": "execute_result"
    }
   ],
   "source": [
    "my_list = [1, 2, 3, 4]\n",
    "\n",
    "number = 1\n",
    "\n",
    "result = [element == number for element in my_list]\n",
    "\n",
    "print(result)\n",
    "\n",
    "any(result)"
   ]
  },
  {
   "cell_type": "markdown",
   "metadata": {},
   "source": [
    "## Câu 11:"
   ]
  },
  {
   "cell_type": "code",
   "execution_count": 27,
   "metadata": {},
   "outputs": [
    {
     "name": "stdout",
     "output_type": "stream",
     "text": [
      "1.0\n"
     ]
    }
   ],
   "source": [
    "def my_function(list_nums = [0, 1, 2]):\n",
    "    var = 0\n",
    "    for i in list_nums:\n",
    "        var += i\n",
    "    return var / len(list_nums)\n",
    "\n",
    "assert my_function([4, 6, 8]) == 6\n",
    "print(my_function())"
   ]
  },
  {
   "cell_type": "markdown",
   "metadata": {},
   "source": [
    "## Câu 12:"
   ]
  },
  {
   "cell_type": "code",
   "execution_count": 28,
   "metadata": {},
   "outputs": [
    {
     "name": "stdout",
     "output_type": "stream",
     "text": [
      "[3, 6]\n"
     ]
    }
   ],
   "source": [
    "def my_function(data):\n",
    "    var = []\n",
    "    for i in data:\n",
    "        if i % 3 == 0:\n",
    "            var.append(i)\n",
    "    return var\n",
    "\n",
    "assert my_function([3, 9, 4, 5]) == [3, 9]\n",
    "print(my_function([1, 2, 3, 5, 6]))"
   ]
  },
  {
   "cell_type": "markdown",
   "metadata": {},
   "source": [
    "## Câu 13:"
   ]
  },
  {
   "cell_type": "code",
   "execution_count": 30,
   "metadata": {},
   "outputs": [
    {
     "name": "stdout",
     "output_type": "stream",
     "text": [
      "24\n"
     ]
    }
   ],
   "source": [
    "def my_function(y):\n",
    "    var = 1\n",
    "    while(y > 1):\n",
    "        var *= y\n",
    "        y -= 1\n",
    "    return var\n",
    "\n",
    "assert my_function(8) == 40320\n",
    "print(my_function(4))"
   ]
  },
  {
   "cell_type": "markdown",
   "metadata": {},
   "source": [
    "## Câu 14:"
   ]
  },
  {
   "cell_type": "code",
   "execution_count": 33,
   "metadata": {},
   "outputs": [
    {
     "name": "stdout",
     "output_type": "stream",
     "text": [
      "tocirpa\n"
     ]
    }
   ],
   "source": [
    "def my_function(x):\n",
    "    reversed_x = ''\n",
    "    for character in x:\n",
    "        reversed_x = character + reversed_x\n",
    "    return reversed_x\n",
    "\n",
    "x = 'I can do it'\n",
    "assert my_function(x) == 'ti od nac I'\n",
    "\n",
    "x = 'apricot'\n",
    "print(my_function(x))"
   ]
  },
  {
   "cell_type": "markdown",
   "metadata": {},
   "source": [
    "## Câu 15:"
   ]
  },
  {
   "cell_type": "code",
   "execution_count": 36,
   "metadata": {},
   "outputs": [
    {
     "name": "stdout",
     "output_type": "stream",
     "text": [
      "['T', 'T', 'T', 'N']\n"
     ]
    }
   ],
   "source": [
    "def function_helper(x):\n",
    "    if x > 0:\n",
    "        return 'T'\n",
    "    else:\n",
    "        return 'N'\n",
    "\n",
    "def my_function(data):\n",
    "    res = [function_helper(x) for x in data]\n",
    "    return res\n",
    "\n",
    "data = [10, 0, -10, -1]\n",
    "assert my_function(data) == ['T', 'N', 'N', 'N']\n",
    "\n",
    "data = [2, 3 , 5, -1]\n",
    "print(my_function(data))"
   ]
  },
  {
   "cell_type": "markdown",
   "metadata": {},
   "source": [
    "## Câu 16:"
   ]
  },
  {
   "cell_type": "code",
   "execution_count": 38,
   "metadata": {},
   "outputs": [
    {
     "name": "stdout",
     "output_type": "stream",
     "text": [
      "[9, 8, 1]\n"
     ]
    }
   ],
   "source": [
    "def function_helper(x, data):\n",
    "    for i in data:\n",
    "        if x == i:\n",
    "            return 0\n",
    "    return 1\n",
    "\n",
    "def my_function(data):\n",
    "    res = []\n",
    "    for i in data:\n",
    "        if function_helper(i, res):\n",
    "            res.append(i)\n",
    "\n",
    "    return res\n",
    "\n",
    "lst = [10, 10, 9, 7, 7]\n",
    "assert my_function(lst) == [10, 9, 7]\n",
    "\n",
    "lst = [9, 9, 8, 1, 1]\n",
    "print(my_function(lst))"
   ]
  },
  {
   "cell_type": "code",
   "execution_count": 47,
   "metadata": {},
   "outputs": [
    {
     "name": "stdout",
     "output_type": "stream",
     "text": [
      "True\n"
     ]
    }
   ],
   "source": [
    "if 1:\n",
    "    print('True')"
   ]
  }
 ],
 "metadata": {
  "kernelspec": {
   "display_name": "aio24_env",
   "language": "python",
   "name": "python3"
  },
  "language_info": {
   "codemirror_mode": {
    "name": "ipython",
    "version": 3
   },
   "file_extension": ".py",
   "mimetype": "text/x-python",
   "name": "python",
   "nbconvert_exporter": "python",
   "pygments_lexer": "ipython3",
   "version": "3.10.14"
  }
 },
 "nbformat": 4,
 "nbformat_minor": 2
}
