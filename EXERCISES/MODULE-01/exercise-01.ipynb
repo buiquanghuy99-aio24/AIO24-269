{
 "cells": [
  {
   "cell_type": "markdown",
   "metadata": {},
   "source": [
    "# I. CÂU HỎI TỰ LUẬN"
   ]
  },
  {
   "cell_type": "markdown",
   "metadata": {},
   "source": [
    "<hr>"
   ]
  },
  {
   "cell_type": "markdown",
   "metadata": {},
   "source": [
    "## 1. Viết function thực hiện đánh giá classification model bằng F1-score"
   ]
  },
  {
   "cell_type": "markdown",
   "metadata": {},
   "source": [
    "- $\\text{Precision} = \\frac{\\text{TP}}{\\text{TP} + \\text{FP}}$\n",
    "\n",
    "- $\\text{Recall} = \\frac{\\text{TP}}{\\text{TP} + \\text{FN}}$\n",
    "\n",
    "- $\\text{F1-score} = 2 * \\frac{\\text{Precision} * \\text{Recall}}{\\text{Precision} + \\text{Recall}}$"
   ]
  },
  {
   "cell_type": "markdown",
   "metadata": {},
   "source": [
    "<div style=\"border-bottom: 1px dashed white;\"></div>"
   ]
  },
  {
   "cell_type": "code",
   "execution_count": 38,
   "metadata": {},
   "outputs": [
    {
     "name": "stdout",
     "output_type": "stream",
     "text": [
      "Precision is: 0.6666666666666666\n",
      "Recall is: 0.7692307692307693\n",
      "F1-score is: 0.7142857142857142\n",
      "\n",
      "fp must be int\n",
      "\n",
      "tp, fp, and fn must be greater than zero\n",
      "\n"
     ]
    }
   ],
   "source": [
    "def evaluate_classification_model(tp, fp, fn):\n",
    "    \n",
    "    # Check the data type of input parameters\n",
    "    if not all(isinstance(i, int) for i in [tp, fp, fn]):\n",
    "        if not isinstance(tp, int):\n",
    "            print('tp must be int\\n')\n",
    "        if not isinstance(fp, int):\n",
    "            print('fp must be int\\n')\n",
    "        if not isinstance(fn, int):\n",
    "            print('fn must be int\\n')\n",
    "        return\n",
    "    \n",
    "    # Check the value of input parameters\n",
    "    if tp <= 0 or fp <= 0 or fn <= 0:\n",
    "        print('tp, fp, and fn must be greater than zero\\n')\n",
    "        return\n",
    "\n",
    "    # Calculate Precision, Recall, and F1-Score\n",
    "    precision = tp / (tp + fp)\n",
    "    recall = tp / (tp + fn)\n",
    "    f1_score = 2 * (precision * recall) / (precision + recall)\n",
    "    \n",
    "    # Print the results\n",
    "    print(f'Precision is: {precision}')\n",
    "    print(f'Recall is: {recall}')\n",
    "    print(f'F1-score is: {f1_score}\\n')\n",
    "\n",
    "# Example usage\n",
    "evaluate_classification_model(tp=10, fp=5, fn=3)\n",
    "evaluate_classification_model(tp=10, fp=5.0, fn=3)\n",
    "evaluate_classification_model(tp=10, fp=5, fn=-3)"
   ]
  },
  {
   "cell_type": "code",
   "execution_count": 39,
   "metadata": {},
   "outputs": [
    {
     "name": "stdout",
     "output_type": "stream",
     "text": [
      "Precision is: 0.6666666666666666\n",
      "Recall is: 0.7692307692307693\n",
      "F1-score is: 0.7142857142857142\n",
      "\n",
      "fp must be int\n",
      "\n",
      "tp and fp and fn must be greater than zero\n",
      "\n"
     ]
    }
   ],
   "source": [
    "def evaluate_classification_model(tp, fp, fn):\n",
    "    metrics = {'tp': tp, 'fp': fp, 'fb': fn}\n",
    "    \n",
    "    # Check input\n",
    "    for key, value in metrics.items():\n",
    "        if type(value) is not int:\n",
    "            return print(f'{key} must be int\\n')\n",
    "        if value <=0:\n",
    "            return print('tp and fp and fn must be greater than zero\\n')\n",
    "    \n",
    "    # F1-Score\n",
    "    precision = tp / (tp + fp)\n",
    "    recall = tp / (tp + fn)\n",
    "    f1_score = 2 * (precision * recall) / (precision + recall)\n",
    "    \n",
    "    # Print the results\n",
    "    result = (f\"Precision is: {precision}\\n\"\n",
    "            f\"Recall is: {recall}\\n\"\n",
    "            f\"F1-score is: {f1_score}\\n\")\n",
    "    return print(result)\n",
    "\n",
    "\n",
    "# Example usage\n",
    "evaluate_classification_model(tp=10, fp=5, fn=3)\n",
    "evaluate_classification_model(tp=10, fp=5.0, fn=3)\n",
    "evaluate_classification_model(tp=10, fp=5, fn=-3)"
   ]
  },
  {
   "cell_type": "markdown",
   "metadata": {},
   "source": [
    "<hr>"
   ]
  },
  {
   "cell_type": "markdown",
   "metadata": {},
   "source": [
    "## 2. Viết function mô phỏng theo 3 hàm kích hoạt"
   ]
  },
  {
   "cell_type": "markdown",
   "metadata": {},
   "source": [
    "- $\\text{Sigmoid(x)} = \\frac{1}{1 + e^{-x}}$\n",
    "\n",
    "- $\\text{RELU}(x) = \n",
    "\\begin{cases} \n",
    "x & \\text{if } x > 0 \\\\ \n",
    "0 & \\text{if } x \\le 0 \n",
    "\\end{cases}$\n",
    "\n",
    "- $\\text{ELU}(x) = \n",
    "\\begin{cases} \n",
    "x & \\text{if } x > 0 \\\\ \n",
    "\\alpha (e^x - 1) & \\text{if } x \\le 0 \n",
    "\\end{cases}$"
   ]
  },
  {
   "cell_type": "markdown",
   "metadata": {},
   "source": [
    "<div style=\"border-bottom: 1px dashed white;\"></div>"
   ]
  },
  {
   "cell_type": "markdown",
   "metadata": {},
   "source": [
    "- Chú ý giá trị số nhập vào input được chuyển thành kiểu chuỗi"
   ]
  },
  {
   "cell_type": "code",
   "execution_count": null,
   "metadata": {},
   "outputs": [
    {
     "name": "stdout",
     "output_type": "stream",
     "text": [
      "<class 'str'>\n"
     ]
    }
   ],
   "source": [
    "x = input(\"Input x: \")\n",
    "print(type(x))"
   ]
  },
  {
   "cell_type": "markdown",
   "metadata": {},
   "source": [
    "- Có nhiều cách kiểm tra số, cách sau có thể xử lý cả kiểu số (int, float) và kiểu chuỗi số (str):"
   ]
  },
  {
   "cell_type": "code",
   "execution_count": 26,
   "metadata": {},
   "outputs": [
    {
     "data": {
      "text/plain": [
       "True"
      ]
     },
     "execution_count": 26,
     "metadata": {},
     "output_type": "execute_result"
    }
   ],
   "source": [
    "def is_number(n):\n",
    "    try:\n",
    "        float(n)\n",
    "    except ValueError:\n",
    "        return False\n",
    "    return True\n",
    "\n",
    "is_number('1')"
   ]
  },
  {
   "cell_type": "code",
   "execution_count": 27,
   "metadata": {},
   "outputs": [],
   "source": [
    "import math\n",
    "\n",
    "def activation_function():\n",
    "    # Input value of x\n",
    "    x = input('Input x: ')\n",
    "    \n",
    "    #define a function to check number\n",
    "    def is_number(n):\n",
    "        try:\n",
    "            float(n)\n",
    "        except ValueError:\n",
    "            return False\n",
    "        return True\n",
    "\n",
    "\n",
    "    # Check if x is a number\n",
    "    if is_number(x) is False:\n",
    "        return print('x must be a number')\n",
    "    \n",
    "    # Convert x to float type\n",
    "    x = float(x)\n",
    "\n",
    "    # Input activation function type\n",
    "    activation_name = input('Input activation function (sigmoid/relu/elu): ')\n",
    "\n",
    "    # Check if activation function is supported\n",
    "    if activation_name not in ['sigmoid', 'relu', 'elu']:\n",
    "        return print(f'{activation_name} is not supported')\n",
    "    else:\n",
    "        if activation_name == 'sigmoid':\n",
    "            return print(f'Sigmoid: f({x}) = {1 / (1 + math.exp(-x))}')\n",
    "        elif activation_name == 'relu':\n",
    "            return print(f'Relu: f({x}) = {x if x > 0 else 0}')\n",
    "        elif activation_name == 'elu':\n",
    "            return print(f'Elu: f({x}) = {x if x > 0 else (0.01*(math.exp(x) - 1))}')"
   ]
  },
  {
   "cell_type": "code",
   "execution_count": 16,
   "metadata": {},
   "outputs": [
    {
     "name": "stdout",
     "output_type": "stream",
     "text": [
      "Sigmoid: f(1.5) = 0.8175744761936437\n"
     ]
    }
   ],
   "source": [
    "activation_function()"
   ]
  },
  {
   "cell_type": "code",
   "execution_count": 30,
   "metadata": {},
   "outputs": [
    {
     "name": "stdout",
     "output_type": "stream",
     "text": [
      "Sigmoid: 1.22313016014843\n",
      "Relu: 1.0\n",
      "Relu: 0\n",
      "Elu: 1.0\n",
      "Elu: -0.008646647167633872\n",
      "x must be a number\n",
      "tanh is not supported\n"
     ]
    }
   ],
   "source": [
    "import math\n",
    "\n",
    "def activation_function(x, activation_name):    \n",
    "    # Check if x is a number\n",
    "    if is_number(x) is False:\n",
    "        return print('x must be a number')\n",
    "    \n",
    "    # Convert x to float type\n",
    "    x = float(x)\n",
    "\n",
    "    # Check if activation function is supported\n",
    "    if activation_name not in ['sigmoid', 'relu', 'elu']:\n",
    "        return print(f'{activation_name} is not supported')\n",
    "    else:\n",
    "        if activation_name == 'sigmoid':\n",
    "            return print(f'Sigmoid: {1 / 1 + math.exp(-x)}')\n",
    "        elif activation_name == 'relu':\n",
    "            return print(f'Relu: {x if x > 0 else 0}')\n",
    "        elif activation_name == 'elu':\n",
    "            return print(f'Elu: {x if x > 0 else (0.01*(math.exp(x) - 1))}')\n",
    "\n",
    "# Example usage:\n",
    "activation_function(1.5, 'sigmoid')\n",
    "activation_function(1, 'relu')\n",
    "activation_function(-2, 'relu')\n",
    "activation_function(1, 'elu')\n",
    "activation_function(-2, 'elu')\n",
    "activation_function('a', 'sigmoid')\n",
    "activation_function(1, 'tanh')"
   ]
  },
  {
   "cell_type": "code",
   "execution_count": null,
   "metadata": {},
   "outputs": [],
   "source": [
    "import math\n",
    "\n",
    "def is_number(n):\n",
    "    try:\n",
    "        float(n)\n",
    "    except:\n",
    "        return False\n",
    "    return True\n",
    "\n",
    "def sigmoid(x):\n",
    "    return 1 / (1 + math.exp(-x))\n",
    "\n",
    "def relu(x):\n",
    "    return max(0, x)\n",
    "\n",
    "def elu(x, alpha=0.01):\n",
    "    return x if x > 0 else alpha * (math.exp(x) - 1)\n",
    "\n",
    "def activation_function(x, activation_name):\n",
    "    x = float(x)\n",
    "    if not is_number(x):\n",
    "        print('x must be a number')\n",
    "        return\n",
    "    if activation_name not in ['sigmoid', 'relu', 'elu']:\n",
    "        print(f'{activation_name} is not supported')\n",
    "        return\n",
    "\n",
    "    if activation_name == 'sigmoid':\n",
    "        result = sigmoid(x)\n",
    "    elif activation_name == 'relu':\n",
    "        result = relu(x)\n",
    "    elif activation_name == 'elu':\n",
    "        result = elu(x)\n",
    "\n",
    "    print(f'{activation_name}: f({x})={result}')\n",
    "\n",
    "# Example usage:\n",
    "x = input(\"Input x: \")\n",
    "activation_name = input(\"Input activation function (sigmoid/relu/elu): \")\n",
    "\n",
    "activation_function(x, activation_name)"
   ]
  },
  {
   "cell_type": "markdown",
   "metadata": {},
   "source": [
    "<hr>"
   ]
  },
  {
   "cell_type": "markdown",
   "metadata": {},
   "source": [
    "## 3. Viết function lựa chọn regression loss function để tính loss"
   ]
  },
  {
   "cell_type": "markdown",
   "metadata": {},
   "source": [
    "- $\\text{MAE} = \\frac{1}{n} \\sum_{i=1}^{n} |y_i - \\hat{y}_i|$\n",
    "\n",
    "- $\\text{MSE} = \\frac{1}{n} \\sum_{i=1}^{n} (y_i - \\hat{y}_i)^2$\n",
    "\n",
    "- $\\text{RMSE} = \\sqrt{\\frac{1}{n} \\sum_{i=1}^{n} (y_i - \\hat{y}_i)^2}$"
   ]
  },
  {
   "cell_type": "markdown",
   "metadata": {},
   "source": [
    "<div style=\"border-bottom: 1px dashed white;\"></div>"
   ]
  },
  {
   "cell_type": "code",
   "execution_count": 35,
   "metadata": {},
   "outputs": [],
   "source": [
    "import random\n",
    "import math\n",
    "\n",
    "def calculate_loss():\n",
    "    \n",
    "    # Input number of samples\n",
    "    num_samples = input('Input number of samples (integer number) which are generated: ')\n",
    "\n",
    "    # Check if n is integer\n",
    "    if num_samples.isnumeric() == False:\n",
    "        return print('number of samples must be an integer number')\n",
    "\n",
    "    # Convert num_samples to integer type\n",
    "    num_samples = int(num_samples)\n",
    "\n",
    "    # Input regression loss function type:\n",
    "    loss_name = input('Input loss function name (MAE/MSE/RMSE): ')\n",
    "    \n",
    "    # Check if loss function is supported\n",
    "    if loss_name not in ['MAE', 'MSE', 'RMSE']:\n",
    "        return print(f'{loss_name} is not supported')\n",
    "    else:\n",
    "        print(f'loss name: {loss_name}')\n",
    "        sum_loss = 0\n",
    "        for sample in range(num_samples):\n",
    "            target = random.uniform(0, 10)\n",
    "            predict = random.uniform(0, 10)\n",
    "            if loss_name == 'MAE':\n",
    "                loss = abs(target - predict)\n",
    "            if loss_name in ['MSE', 'RMSE']:\n",
    "                loss = (target - predict)**2\n",
    "            print(f'sample {sample}, pred: {predict}, target: {target}, loss: {loss}')\n",
    "            sum_loss += loss\n",
    "        return print(f\"Final loss: {math.sqrt(sum_loss/num_samples) if loss_name == 'RMSE' else (sum_loss/num_samples)}\")"
   ]
  },
  {
   "cell_type": "code",
   "execution_count": 36,
   "metadata": {},
   "outputs": [
    {
     "name": "stdout",
     "output_type": "stream",
     "text": [
      "loss name: RMSE\n",
      "sample 0, pred: 1.0498754050275227, target: 3.5155834504042183, loss: 6.079716165035364\n",
      "sample 1, pred: 1.6268210422515517, target: 6.912774338433303, loss: 27.94130224941473\n",
      "sample 2, pred: 7.455638730777196, target: 1.2541283789448554, loss: 38.458730643883676\n",
      "sample 3, pred: 4.449692023976882, target: 7.310314153640547, loss: 8.183158968721488\n",
      "sample 4, pred: 8.53694941788807, target: 8.816632160094741, loss: 0.07822243628824294\n",
      "Final loss: 4.018485547151899\n"
     ]
    }
   ],
   "source": [
    "calculate_loss()"
   ]
  },
  {
   "cell_type": "code",
   "execution_count": 37,
   "metadata": {},
   "outputs": [
    {
     "name": "stdout",
     "output_type": "stream",
     "text": [
      "Loss name: RMSE\n",
      "Sample-0: Predict: 6.62, Target: 0.76\n",
      "Sample-1: Predict: 6.70, Target: 5.66\n",
      "Sample-2: Predict: 5.97, Target: 3.29\n",
      "Sample-3: Predict: 4.51, Target: 6.34\n",
      "Sample-4: Predict: 2.35, Target: 3.64\n",
      "Loss: 3.09\n"
     ]
    }
   ],
   "source": [
    "import random\n",
    "import math\n",
    "\n",
    "def calculate_loss(num_samples, loss_name):\n",
    "    # Generate lists of random predict and target values\n",
    "    predicts = []\n",
    "    targets = []\n",
    "    for _ in range(num_samples):\n",
    "        predict = random.uniform(0, 10)\n",
    "        target = random.uniform(0, 10)\n",
    "        predicts.append(predict)\n",
    "        targets.append(target)\n",
    "    \n",
    "    # Calculate loss based on the chosen loss function\n",
    "    if loss_name == 'MAE':\n",
    "        loss = sum(abs(p - t) for p, t in zip(predicts, targets)) / num_samples\n",
    "    elif loss_name == 'MSE':\n",
    "        loss = sum((p - t) ** 2 for p, t in zip(predicts, targets)) / num_samples\n",
    "    elif loss_name == 'RMSE':\n",
    "        loss = math.sqrt(sum((p - t) ** 2 for p, t in zip(predicts, targets)) / num_samples)\n",
    "    else:\n",
    "        raise ValueError('Invalid loss function. Please choose MAE, MSE, or RMSE.')\n",
    "\n",
    "    # Print the results\n",
    "    print(f\"Loss name: {loss_name}\")\n",
    "    for i in range(num_samples):\n",
    "        print(f\"Sample-{i}: Predict: {predicts[i]:.2f}, Target: {targets[i]:.2f}\")\n",
    "    print(f\"Loss: {loss:.2f}\")\n",
    "\n",
    "calculate_loss(5, 'RMSE')"
   ]
  },
  {
   "cell_type": "markdown",
   "metadata": {},
   "source": [
    "<hr>"
   ]
  },
  {
   "cell_type": "markdown",
   "metadata": {},
   "source": [
    "## 4. Viết function để ước lượng các hàm số sau"
   ]
  },
  {
   "cell_type": "markdown",
   "metadata": {},
   "source": [
    "- $\\text{sin(x)} \\approx \\sum_{n=0}^{\\infty} (-1)^{n} \\frac{x^{2n+1}}{(2n+1)!} = \\frac{x^1}{1!} - \\frac{x^3}{3!} + \\frac{x^5}{5!} - \\frac{x^7}{7!} + \\frac{x^9}{9!} - ...$\n",
    "\n",
    "- $\\text{sinh(x)} \\approx \\sum_{n=0}^{\\infty} (+1)^{n} \\frac{x^{2n+1}}{(2n+1)!} = \\frac{x^1}{1!} + \\frac{x^3}{3!} + \\frac{x^5}{5!} + \\frac{x^7}{7!} + \\frac{x^9}{9!} + ...$\n",
    "\n",
    ".\n",
    "\n",
    "- $\\text{cos(x)} \\approx \\sum_{n=0}^{\\infty} (-1)^{n} \\frac{x^{2n}}{(2n)!} = \\frac{x^0}{0!} - \\frac{x^2}{2!} + \\frac{x^4}{4!} - \\frac{x^6}{6!} + \\frac{x^8}{8!} - ...$\n",
    "\n",
    "- $\\text{cosh(x)} \\approx \\sum_{n=0}^{\\infty} (+1)^{n} \\frac{x^{2n}}{(2n)!} = \\frac{x^0}{0!} + \\frac{x^2}{2!} + \\frac{x^4}{4!} + \\frac{x^6}{6!} + \\frac{x^8}{8!} + ...$\n"
   ]
  },
  {
   "cell_type": "markdown",
   "metadata": {},
   "source": [
    "<div style=\"border-bottom: 1px dashed white;\"></div>"
   ]
  },
  {
   "cell_type": "markdown",
   "metadata": {},
   "source": [
    "- Hàm tính giai thừa của một số nguyên không âm:"
   ]
  },
  {
   "cell_type": "code",
   "execution_count": 15,
   "metadata": {},
   "outputs": [],
   "source": [
    "def factorial(n):\n",
    "    if n < 0:\n",
    "        raise ValueError(\"Factorial is not defined for negative numbers.\")\n",
    "    elif n == 0 or n == 1:\n",
    "        return 1\n",
    "    else:\n",
    "        result = 1\n",
    "        for i in range(2, n + 1):\n",
    "            result *= i\n",
    "        return result"
   ]
  },
  {
   "cell_type": "code",
   "execution_count": 20,
   "metadata": {},
   "outputs": [],
   "source": [
    "def function_approximation():\n",
    "    \n",
    "    #Input the number to calculate\n",
    "    x = input('Input the number to calculate (radian): ')\n",
    "\n",
    "    # Convert x to float type\n",
    "    x = float(x)\n",
    "    \n",
    "    # Input number of iterations\n",
    "    n = input('Input the number of iterations (non-negative integer): ')\n",
    "\n",
    "    # Check if n is integer\n",
    "    if n.isnumeric() == False:\n",
    "        return print('number of iterations must be an integer number')\n",
    "\n",
    "    # Convert n to int type\n",
    "    n = int(n)\n",
    "\n",
    "    # Input function type:\n",
    "    function_name = input('Input function (sin\\cos\\sinh\\cosh): ')\n",
    "\n",
    "    # Check if function is supported\n",
    "    if function_name not in ['sin', 'cos', 'sinh', 'cosh']:\n",
    "        return print(f'{function_name} is not supported')\n",
    "    else:\n",
    "        if function_name in ['sin', 'cos']:\n",
    "            a = -1\n",
    "        else:\n",
    "            a = 1\n",
    "        if function_name in ['sin', 'sinh']:\n",
    "            b = 1\n",
    "        else:\n",
    "            b = 0\n",
    "    \n",
    "    def factorial(n):\n",
    "        if n < 0:\n",
    "            raise ValueError(\"Factorial is not defined for negative numbers.\")\n",
    "        elif n == 0 or n == 1:\n",
    "            return 1\n",
    "        else:\n",
    "            result = 1\n",
    "            for i in range(2, n + 1):\n",
    "                result *= i\n",
    "        return result\n",
    "\n",
    "    result = 0\n",
    "    for i in range(n):\n",
    "        result += (a**i) * (x**(2*i+b)) / factorial((2*i+b))\n",
    "    \n",
    "    return print(f'The result is: {result}')"
   ]
  },
  {
   "cell_type": "code",
   "execution_count": 24,
   "metadata": {},
   "outputs": [
    {
     "name": "stdout",
     "output_type": "stream",
     "text": [
      "The result is: 11.573574824666185\n"
     ]
    }
   ],
   "source": [
    "function_approximation()"
   ]
  },
  {
   "cell_type": "markdown",
   "metadata": {},
   "source": [
    "<hr>"
   ]
  },
  {
   "cell_type": "markdown",
   "metadata": {},
   "source": [
    "## 5. Viết function để thực hiện Mean Difference of nth Root Error"
   ]
  },
  {
   "cell_type": "markdown",
   "metadata": {},
   "source": [
    "$ \\text{MD\\_nRE} = \\frac{1}{\\text{m}} \\sum_{i=1}^{m} \\left( \\sqrt[n]{y_i} - \\sqrt[n]{\\hat{y}_i}\\right)^p$"
   ]
  },
  {
   "cell_type": "markdown",
   "metadata": {},
   "source": [
    "<div style=\"border-bottom: 1px dashed white;\"></div>"
   ]
  },
  {
   "cell_type": "code",
   "execution_count": 25,
   "metadata": {},
   "outputs": [],
   "source": [
    "def md_nre_single_sample(y, y_hat, n, p):\n",
    "    return print((y**(1/n) - y_hat**(1/n))**p)"
   ]
  },
  {
   "cell_type": "code",
   "execution_count": 26,
   "metadata": {},
   "outputs": [
    {
     "name": "stdout",
     "output_type": "stream",
     "text": [
      "0.025031328369998107\n"
     ]
    }
   ],
   "source": [
    "md_nre_single_sample(y=100, y_hat=99.5, n=2, p=1)"
   ]
  },
  {
   "cell_type": "markdown",
   "metadata": {},
   "source": [
    "<hr>"
   ]
  },
  {
   "cell_type": "markdown",
   "metadata": {},
   "source": [
    "# II. CÂU HỎI TRẮC NGHIỆM"
   ]
  },
  {
   "cell_type": "markdown",
   "metadata": {},
   "source": [
    "<hr>"
   ]
  },
  {
   "cell_type": "markdown",
   "metadata": {},
   "source": [
    "## Câu 1:"
   ]
  },
  {
   "cell_type": "markdown",
   "metadata": {},
   "source": [
    "Viết function thực hiện đánh giá classification model bằng F1-Score. Function nhận vào 3 giá trị **tp, fp, fn** và trả về F1-score"
   ]
  },
  {
   "cell_type": "code",
   "execution_count": 6,
   "metadata": {},
   "outputs": [
    {
     "name": "stdout",
     "output_type": "stream",
     "text": [
      "0.31\n"
     ]
    }
   ],
   "source": [
    "def calc_f1_score(tp, fp, fn):\n",
    "    \n",
    "    # Check the data type of input parameters\n",
    "    if not all(isinstance(i, int) for i in [tp, fp, fn]):\n",
    "        if not isinstance(tp, int):\n",
    "            print('tp must be int\\n')\n",
    "        if not isinstance(fp, int):\n",
    "            print('fp must be int\\n')\n",
    "        if not isinstance(fn, int):\n",
    "            print('fn must be int\\n')\n",
    "        return\n",
    "    \n",
    "    # Check the value of input parameters\n",
    "    if tp <= 0 or fp <= 0 or fn <= 0:\n",
    "        print('tp, fp, and fn must be greater than zero\\n')\n",
    "        return\n",
    "\n",
    "    # Calculate Precision, Recall, and F1-Score\n",
    "    precision = tp / (tp + fp)\n",
    "    recall = tp / (tp + fn)\n",
    "    f1_score = 2 * (precision * recall) / (precision + recall)\n",
    "\n",
    "    # return the results\n",
    "    return f1_score\n",
    "\n",
    "assert round(calc_f1_score(tp=2, fp=3, fn=5), 2) == 0.33\n",
    "print(round(calc_f1_score(tp=2, fp=4, fn=5), 2))"
   ]
  },
  {
   "cell_type": "markdown",
   "metadata": {},
   "source": [
    "## Câu 2:"
   ]
  },
  {
   "cell_type": "markdown",
   "metadata": {},
   "source": [
    "Viết function `is_number` nhận input có thể là string hoặc một số **kiểm tra n (một số) có hợp lệ hay không** (vd: n='10', `is_number(n)` sẽ trả về True ngược lại là False). Đầu ra của chương trình sau đây là gì?"
   ]
  },
  {
   "cell_type": "code",
   "execution_count": 4,
   "metadata": {},
   "outputs": [
    {
     "name": "stdout",
     "output_type": "stream",
     "text": [
      "True\n",
      "False\n"
     ]
    }
   ],
   "source": [
    "import math\n",
    "def is_number(n):\n",
    "    try:\n",
    "        float(n)\n",
    "    except:\n",
    "        return False\n",
    "    return True\n",
    "\n",
    "assert is_number(3) == 1.0\n",
    "assert is_number('-2a') == 0.0\n",
    "print(is_number(1))\n",
    "print(is_number('n'))"
   ]
  },
  {
   "cell_type": "markdown",
   "metadata": {},
   "source": [
    "## Câu 3:"
   ]
  },
  {
   "cell_type": "markdown",
   "metadata": {},
   "source": [
    "Đoạn code dưới đây đang thực hiện activation function nào?"
   ]
  },
  {
   "cell_type": "code",
   "execution_count": 9,
   "metadata": {},
   "outputs": [
    {
     "name": "stdout",
     "output_type": "stream",
     "text": [
      "0.0\n"
     ]
    }
   ],
   "source": [
    "x = -2.0\n",
    "if x <= 0:\n",
    "    y = 0.0\n",
    "else:\n",
    "    y = x\n",
    "print(y)"
   ]
  },
  {
   "cell_type": "markdown",
   "metadata": {},
   "source": [
    "$\\text{RELU}(x) = \n",
    "\\begin{cases} \n",
    "x & \\text{if } x > 0 \\\\ \n",
    "0 & \\text{if } x \\le 0 \n",
    "\\end{cases}$"
   ]
  },
  {
   "cell_type": "markdown",
   "metadata": {},
   "source": [
    "## Câu 4:"
   ]
  },
  {
   "cell_type": "markdown",
   "metadata": {},
   "source": [
    "Viết function thực hiện Sigmoid Function:\n",
    "\n",
    "$f(x) = \\frac{1}{1+e^{-x}}$\n",
    "\n",
    "Nhận input là x và return kết\n",
    "quả tương ứng trong Sigmoid Function. Đầu ra của chương trình sau đây là gì?"
   ]
  },
  {
   "cell_type": "code",
   "execution_count": 10,
   "metadata": {},
   "outputs": [
    {
     "name": "stdout",
     "output_type": "stream",
     "text": [
      "0.88\n"
     ]
    }
   ],
   "source": [
    "import math\n",
    "def calc_sig(x):\n",
    "    return 1 / (1 + math.exp(-x))\n",
    "    \n",
    "assert round(calc_sig(3), 2) == 0.95\n",
    "print(round(calc_sig(2), 2))"
   ]
  },
  {
   "cell_type": "markdown",
   "metadata": {},
   "source": [
    "## Câu 5:"
   ]
  },
  {
   "cell_type": "markdown",
   "metadata": {},
   "source": [
    "Viết function thực hiện Elu Function:\n",
    "\n",
    "$\\text{f}(x) =\n",
    "\\begin{cases}\n",
    "x & \\text{if } x >0 \\\\\n",
    "\\alpha (e^x-1) & \\text{if } x \\le 0\n",
    "\\end{cases}$\n",
    "\n",
    "Nhận input là x và return kết quả tương ứng trong Elu Function. Đầu ra của chương trình sau đây là gì khi α = 0.01?"
   ]
  },
  {
   "cell_type": "code",
   "execution_count": 11,
   "metadata": {},
   "outputs": [
    {
     "name": "stdout",
     "output_type": "stream",
     "text": [
      "-0.01\n"
     ]
    }
   ],
   "source": [
    "import math\n",
    "def calc_elu(x):\n",
    "    if x > 0:\n",
    "        return x\n",
    "    else:\n",
    "        return 0.01*(math.exp(x)-1)\n",
    "\n",
    "assert round(calc_elu(1)) == 1\n",
    "print(round(calc_elu(-1), 2))"
   ]
  },
  {
   "cell_type": "markdown",
   "metadata": {},
   "source": [
    "## Câu 6:"
   ]
  },
  {
   "cell_type": "markdown",
   "metadata": {},
   "source": [
    "Viết function nhận 2 giá trị x, và tên của activation function *act_name* **activation function chỉ có 3 loại (sigmoid, relu, elu)**, thực hiện tính toán activation function tương ứng với name nhận được trên giá trị của x và trả kết quả. Đầu ra của chương trình sau đây là gì?"
   ]
  },
  {
   "cell_type": "code",
   "execution_count": 1,
   "metadata": {},
   "outputs": [
    {
     "name": "stdout",
     "output_type": "stream",
     "text": [
      "0.95\n"
     ]
    }
   ],
   "source": [
    "import math\n",
    "def calc_activation_func(x, act_name):\n",
    "    if act_name == 'sigmoid':\n",
    "        return 1 / (1 + math.exp(-x))\n",
    "    elif act_name == 'relu':\n",
    "        return x if x > 0 else 0\n",
    "    elif act_name == 'elu':\n",
    "        return x if x > 0 else (0.01*(math.exp(x) - 1))\n",
    "    \n",
    "assert calc_activation_func(x = 1, act_name='relu') == 1\n",
    "print(round(calc_activation_func(x=3, act_name='sigmoid'), 2))"
   ]
  },
  {
   "cell_type": "markdown",
   "metadata": {},
   "source": [
    "## Câu 7:"
   ]
  },
  {
   "cell_type": "markdown",
   "metadata": {},
   "source": [
    "Viết function tính $\\text{absolute error} = |y− \\hat{y}|$ Nhận input là y và $\\hat{y}$, return về kết quả absolute error tương ứng. Đầu ra của chương trình sau đây là gì?"
   ]
  },
  {
   "cell_type": "code",
   "execution_count": 32,
   "metadata": {},
   "outputs": [
    {
     "name": "stdout",
     "output_type": "stream",
     "text": [
      "7\n"
     ]
    }
   ],
   "source": [
    "def calc_ae(y, y_hat):\n",
    "    return abs(y - y_hat)\n",
    "\n",
    "y = 1\n",
    "y_hat = 6\n",
    "assert calc_ae(y, y_hat) == 5\n",
    "y = 2\n",
    "y_hat = 9\n",
    "print(calc_ae(y, y_hat))"
   ]
  },
  {
   "cell_type": "markdown",
   "metadata": {},
   "source": [
    "## Câu 8:"
   ]
  },
  {
   "cell_type": "markdown",
   "metadata": {},
   "source": [
    "Viết function tính $\\text{squared error} = (y− \\hat{y})^2$. Nhận input là y và $\\hat{y}$ return về kết quả squared error tương ứng. Đầu ra của chương trình sau đây là gì?"
   ]
  },
  {
   "cell_type": "code",
   "execution_count": 33,
   "metadata": {},
   "outputs": [
    {
     "name": "stdout",
     "output_type": "stream",
     "text": [
      "1\n"
     ]
    }
   ],
   "source": [
    "def calc_se(y, y_hat):\n",
    "    return (y - y_hat)**2\n",
    "y = 4\n",
    "y_hat = 2\n",
    "assert calc_se(y, y_hat) == 4\n",
    "print(calc_se(2, 1))"
   ]
  },
  {
   "cell_type": "markdown",
   "metadata": {},
   "source": [
    "## Câu 9:"
   ]
  },
  {
   "cell_type": "markdown",
   "metadata": {},
   "source": [
    "Dựa vào công thức xấp xỉ cos và điều kiện đã được giới thiệu. Viết function xấp xỉ cos khi nhận x là giá trị muốn tính cos(x) và n là số lần lặp muốn xấp xỉ. Return về kết quả cos(x) với bậc xấp xỉ tương ứng. Đầu ra của chương trình sau đây là gì?"
   ]
  },
  {
   "cell_type": "markdown",
   "metadata": {},
   "source": [
    "$\\text{cos(x)} \\approx \\sum_{n=0}^{\\infty} (-1)^{n} \\frac{x^{2n}}{(2n)!} = \\frac{x^0}{0!} - \\frac{x^2}{2!} + \\frac{x^4}{4!} - \\frac{x^6}{6!} + \\frac{x^8}{8!} - ...$"
   ]
  },
  {
   "cell_type": "code",
   "execution_count": 42,
   "metadata": {},
   "outputs": [
    {
     "name": "stdout",
     "output_type": "stream",
     "text": [
      "-1.0\n"
     ]
    }
   ],
   "source": [
    "def approx_cos(x, n):\n",
    "    def factorial(n):\n",
    "        if n < 0:\n",
    "            raise ValueError(\"Factorial is not defined for negative numbers.\")\n",
    "        elif n == 0 or n == 1:\n",
    "            return 1\n",
    "        else:\n",
    "            result = 1\n",
    "            for i in range(2, n + 1):\n",
    "                result *= i\n",
    "        return result\n",
    "    \n",
    "    result = 0\n",
    "    for i in range(n):\n",
    "        result += ((-1)**i) * ((x**(2*i) / factorial(2*i)))\n",
    "\n",
    "    return result\n",
    "\n",
    "assert round(approx_cos(x=1, n=10), 2) == 0.54\n",
    "print(round(approx_cos(x=3.14, n=10), 2))"
   ]
  },
  {
   "cell_type": "markdown",
   "metadata": {},
   "source": [
    "## Câu 10:"
   ]
  },
  {
   "cell_type": "markdown",
   "metadata": {},
   "source": [
    "Dựa vào công thức xấp xỉ sin và điều kiện đã được giới thiệu. Viết function xấp xỉ sin khi nhận x là giá trị muốn tính sin(x) và n là số lần lặp muốn xấp xỉ. Return về kết quả sin(x) với bậc xấp xỉ tương ứng. Đầu ra của chương trình sau đây là gì?"
   ]
  },
  {
   "cell_type": "markdown",
   "metadata": {},
   "source": [
    "$\\text{sin(x)} \\approx \\sum_{n=0}^{\\infty} (-1)^{n} \\frac{x^{2n+1}}{(2n+1)!} = \\frac{x^1}{1!} - \\frac{x^3}{3!} + \\frac{x^5}{5!} - \\frac{x^7}{7!} + \\frac{x^9}{9!} - ...$"
   ]
  },
  {
   "cell_type": "code",
   "execution_count": 44,
   "metadata": {},
   "outputs": [
    {
     "name": "stdout",
     "output_type": "stream",
     "text": [
      "0.0016\n"
     ]
    }
   ],
   "source": [
    "def approx_sin(x, n):\n",
    "    def factorial(n):\n",
    "        if n < 0:\n",
    "            raise ValueError(\"Factorial is not defined for negative numbers.\")\n",
    "        elif n == 0 or n == 1:\n",
    "            return 1\n",
    "        else:\n",
    "            result = 1\n",
    "            for i in range(2, n + 1):\n",
    "                result *= i\n",
    "        return result\n",
    "    \n",
    "    result = 0\n",
    "    for i in range(n):\n",
    "        result += ((-1)**i) * ((x**(2*i+1) / factorial(2*i+1)))\n",
    "\n",
    "    return result\n",
    "\n",
    "assert round(approx_sin(x=1, n=10), 4) == 0.8415\n",
    "print(round(approx_sin(x=3.14, n=10), 4))"
   ]
  },
  {
   "cell_type": "markdown",
   "metadata": {},
   "source": [
    "## Câu 11:"
   ]
  },
  {
   "cell_type": "markdown",
   "metadata": {},
   "source": [
    "Dựa vào công thức xấp xỉ sinh và điều kiện đã được giới thiệu. Viết function xấp xỉ sinh khi nhận x là giá trị muốn tính sinh(x) và n là số lần lặp muốn xấp xỉ. Return về kết quả sinh(x) với bậc xấp xỉ tương ứng. Đầu ra của chương trình sau đây là gì?"
   ]
  },
  {
   "cell_type": "markdown",
   "metadata": {},
   "source": [
    "$\\text{sinh(x)} \\approx \\sum_{n=0}^{\\infty} (+1)^{n} \\frac{x^{2n+1}}{(2n+1)!} = \\frac{x^1}{1!} + \\frac{x^3}{3!} + \\frac{x^5}{5!} + \\frac{x^7}{7!} + \\frac{x^9}{9!} + ...$"
   ]
  },
  {
   "cell_type": "code",
   "execution_count": 48,
   "metadata": {},
   "outputs": [
    {
     "name": "stdout",
     "output_type": "stream",
     "text": [
      "11.53\n"
     ]
    }
   ],
   "source": [
    "def approx_sinh(x, n):\n",
    "    def factorial(n):\n",
    "        if n < 0:\n",
    "            raise ValueError(\"Factorial is not defined for negative numbers.\")\n",
    "        elif n == 0 or n == 1:\n",
    "            return 1\n",
    "        else:\n",
    "            result = 1\n",
    "            for i in range(2, n + 1):\n",
    "                result *= i\n",
    "        return result\n",
    "    \n",
    "    result = 0\n",
    "    for i in range(n):\n",
    "        result += ((+1)**i) * ((x**(2*i+1) / factorial(2*i+1)))\n",
    "\n",
    "    return result\n",
    "\n",
    "assert round(approx_sinh(x=1, n=10), 2) == 1.18\n",
    "print(round(approx_sinh(x=3.14, n=10), 2))"
   ]
  },
  {
   "cell_type": "markdown",
   "metadata": {},
   "source": [
    "## Câu 12:"
   ]
  },
  {
   "cell_type": "markdown",
   "metadata": {},
   "source": [
    "Dựa vào công thức xấp xỉ cosh và điều kiện được giới thiệu. Viết function xấp xỉ cosh khi nhận x là giá trị muốn tính cosh(x) và n là số lần lặp muốn xấp xỉ. Return về kết quả cosh(x) với bậc xấp xỉ tương ứng. Đầu ra của chương trình sau đây là gì?"
   ]
  },
  {
   "cell_type": "markdown",
   "metadata": {},
   "source": [
    "$\\text{cosh(x)} \\approx \\sum_{n=0}^{\\infty} (+1)^{n} \\frac{x^{2n}}{(2n)!} = \\frac{x^0}{0!} + \\frac{x^2}{2!} + \\frac{x^4}{4!} + \\frac{x^6}{6!} + \\frac{x^8}{8!} + ...$"
   ]
  },
  {
   "cell_type": "code",
   "execution_count": 47,
   "metadata": {},
   "outputs": [
    {
     "name": "stdout",
     "output_type": "stream",
     "text": [
      "11.57\n"
     ]
    }
   ],
   "source": [
    "def approx_cosh(x, n):\n",
    "    def factorial(n):\n",
    "        if n < 0:\n",
    "            raise ValueError(\"Factorial is not defined for negative numbers.\")\n",
    "        elif n == 0 or n == 1:\n",
    "            return 1\n",
    "        else:\n",
    "            result = 1\n",
    "            for i in range(2, n + 1):\n",
    "                result *= i\n",
    "        return result\n",
    "    \n",
    "    result = 0\n",
    "    for i in range(n):\n",
    "        result += ((+1)**i) * ((x**(2*i) / factorial(2*i)))\n",
    "\n",
    "    return result\n",
    "\n",
    "assert round(approx_cosh(x=1, n=10), 2) == 1.54\n",
    "print(round(approx_cosh(x=3.14, n=10), 2))"
   ]
  },
  {
   "cell_type": "markdown",
   "metadata": {},
   "source": [
    "## Câu 13:"
   ]
  },
  {
   "cell_type": "markdown",
   "metadata": {},
   "source": [
    "Đoạn code nào thực hiện đúng Mean Difference of nth Root Error được miêu tả ở trên?"
   ]
  },
  {
   "cell_type": "markdown",
   "metadata": {},
   "source": [
    "$ \\text{MD\\_nRE} = \\frac{1}{\\text{m}} \\sum_{i=1}^{m} \\left( \\sqrt[n]{y_i} - \\sqrt[n]{\\hat{y}_i}\\right)^p$"
   ]
  },
  {
   "cell_type": "code",
   "execution_count": 50,
   "metadata": {},
   "outputs": [],
   "source": [
    "def md_nre_single_sample(y, y_hat, n, p):\n",
    "    y_root = y**(1/n)\n",
    "    y_hat_root = y_hat**(1/n)\n",
    "    difference = y_root - y_hat_root\n",
    "    loss = difference**p\n",
    "    return loss"
   ]
  },
  {
   "cell_type": "markdown",
   "metadata": {},
   "source": [
    "[EXERCISE MODULE 1- [Week 1 - 01/06/2024]](https://docs.google.com/forms/d/e/1FAIpQLSdr2BkcGGiDAstzWwlYEcxeNlKnfvd2RpxiWnL6RY0cw7HSpQ/viewform)"
   ]
  }
 ],
 "metadata": {
  "kernelspec": {
   "display_name": "aio24_env",
   "language": "python",
   "name": "python3"
  },
  "language_info": {
   "codemirror_mode": {
    "name": "ipython",
    "version": 3
   },
   "file_extension": ".py",
   "mimetype": "text/x-python",
   "name": "python",
   "nbconvert_exporter": "python",
   "pygments_lexer": "ipython3",
   "version": "3.10.14"
  }
 },
 "nbformat": 4,
 "nbformat_minor": 2
}
