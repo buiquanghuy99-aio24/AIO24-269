{
 "cells": [
  {
   "cell_type": "markdown",
   "metadata": {},
   "source": [
    "# I. CÂU HỎI TỰ LUẬN"
   ]
  },
  {
   "cell_type": "markdown",
   "metadata": {},
   "source": [
    "## 1. Viết function thực hiện đánh giá classification model bằng F1-score"
   ]
  },
  {
   "cell_type": "markdown",
   "metadata": {},
   "source": [
    "## 2. Viết function mô phỏng theo 3 hàm kích hoạt"
   ]
  },
  {
   "cell_type": "markdown",
   "metadata": {},
   "source": [
    "## 3. Viết function lựa chọn regression loss function để tính loss"
   ]
  },
  {
   "cell_type": "markdown",
   "metadata": {},
   "source": [
    "## 4. Viết function để ước lượng các hàm số sau"
   ]
  },
  {
   "cell_type": "markdown",
   "metadata": {},
   "source": [
    "## 5. Viết function để thực hiện Mean Difference of nth Root Error"
   ]
  },
  {
   "cell_type": "markdown",
   "metadata": {},
   "source": [
    "# II. CÂU HỎI TRẮC NGHIỆM"
   ]
  }
 ],
 "metadata": {
  "kernelspec": {
   "display_name": "aio24_env",
   "language": "python",
   "name": "python3"
  },
  "language_info": {
   "name": "python",
   "version": "3.10.14"
  }
 },
 "nbformat": 4,
 "nbformat_minor": 2
}
