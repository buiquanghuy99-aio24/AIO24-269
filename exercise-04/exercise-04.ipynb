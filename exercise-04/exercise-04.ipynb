{
 "cells": [
  {
   "cell_type": "markdown",
   "metadata": {},
   "source": [
    "# I. CÂU HỎI TỰ LUẬN"
   ]
  },
  {
   "cell_type": "markdown",
   "metadata": {},
   "source": [
    "---"
   ]
  },
  {
   "cell_type": "markdown",
   "metadata": {},
   "source": [
    "## 1. Word Correction"
   ]
  },
  {
   "cell_type": "markdown",
   "metadata": {},
   "source": [
    "<div style=\"border-bottom: 1px dashed white;\"></div>"
   ]
  },
  {
   "cell_type": "markdown",
   "metadata": {},
   "source": [
    "- Xây dựng bộ từ điển từ bộ từ vựng `vocab.txt`"
   ]
  },
  {
   "cell_type": "code",
   "execution_count": 4,
   "metadata": {},
   "outputs": [
    {
     "data": {
      "text/plain": [
       "['apple',\n",
       " 'book',\n",
       " 'dog',\n",
       " 'hello',\n",
       " 'never',\n",
       " 'please',\n",
       " 'random',\n",
       " 'sleep',\n",
       " 'start',\n",
       " 'understand']"
      ]
     },
     "execution_count": 4,
     "metadata": {},
     "output_type": "execute_result"
    }
   ],
   "source": [
    "def load_vocab(file_path):\n",
    "    with open(file_path, 'r') as f:\n",
    "        lines = f.readlines()\n",
    "    words = sorted(set([line.strip().lower() for line in lines]))\n",
    "    return words\n",
    "\n",
    "vocabs = load_vocab(file_path='1-word-correction/vocab.txt')\n",
    "vocabs"
   ]
  },
  {
   "cell_type": "markdown",
   "metadata": {},
   "source": [
    "- Hàm tính khoảng cách `levenshtein_distance`"
   ]
  },
  {
   "cell_type": "code",
   "execution_count": 38,
   "metadata": {},
   "outputs": [],
   "source": [
    "def levenshtein_distance(token1, token2):\n",
    "    distances = [[0]*(len(token2)+1) for i in range(len(token1)+1)]\n",
    "\n",
    "    for t1 in range(len(token1)+1):\n",
    "        distances[t1][0] = t1\n",
    "    for t2 in range(len(token2)+1):\n",
    "        distances[0][t2] = t2\n",
    "\n",
    "    a, b, c = 0, 0, 0\n",
    "\n",
    "    for t1 in range(1, len(token1)+1):\n",
    "        for t2 in range(1, len(token2)+1):\n",
    "            if token1[t1 - 1] == token2[t2 - 1]:\n",
    "                distances[t1][t2] = distances[t1 - 1][t2 - 1]\n",
    "            else:\n",
    "                a = distances[t1][t2 - t1]\n",
    "                b = distances[t1 - 1][t2]\n",
    "                c = distances[t1 - 1][t2 - 1]\n",
    "                if a <= b and a >= c:\n",
    "                    distances[t1][t2] = a + 1\n",
    "                elif b <= a and b <= c:\n",
    "                    distances[t1][t2] = b + 1\n",
    "                else:\n",
    "                    distances[t1][t2] = c + 1\n",
    "    return distances[len(token1)][len(token2)]"
   ]
  },
  {
   "cell_type": "markdown",
   "metadata": {},
   "source": [
    "- Giao diện `steamlit`"
   ]
  },
  {
   "cell_type": "code",
   "execution_count": null,
   "metadata": {},
   "outputs": [],
   "source": [
    "import streamlit as st\n",
    "\n",
    "st.title(\"Word Correction using Levenshtein Distance\")\n",
    "word = st.text_input('Word:')\n",
    "\n",
    "if st.button(\"Compute\"):\n",
    "    # Compute levenshtein distance\n",
    "    leven_distances = dict()\n",
    "    for vocab in vocabs:\n",
    "        leven_distances[vocab] = levenshtein_distance(word, vocab)\n",
    "\n",
    "    # Sorted by distance\n",
    "    sorted_distances = dict(\n",
    "        sorted(leven_distances.items(), key=lambda item: item[1]))\n",
    "    correct_word = list(sorted_distances.keys())[0]\n",
    "    st.write('Correct word:', correct_word)\n",
    "\n",
    "    col1, col2 = st.columns(2)\n",
    "    col1.write('Vocabulary:')\n",
    "    col1.write(vocabs)\n",
    "    col2.write('Distances:')\n",
    "    col2.write(sorted_distances)"
   ]
  },
  {
   "cell_type": "markdown",
   "metadata": {},
   "source": [
    "---"
   ]
  },
  {
   "cell_type": "markdown",
   "metadata": {},
   "source": [
    "## 2. Object Detection"
   ]
  },
  {
   "cell_type": "markdown",
   "metadata": {},
   "source": [
    "<div style=\"border-bottom: 1px dashed white;\"></div>"
   ]
  },
  {
   "cell_type": "markdown",
   "metadata": {},
   "source": [
    "- Cài đặt mô hình"
   ]
  },
  {
   "cell_type": "code",
   "execution_count": 16,
   "metadata": {},
   "outputs": [],
   "source": [
    "import cv2\n",
    "import numpy as np\n",
    "\n",
    "MODEL = 'exercise-04/2-object-detection/MobileNetSSD_deploy.caffemodel'\n",
    "PROTOTXT = 'exercise-04/2-object-detection/MobileNetSSD_deploy.prototxt.txt'"
   ]
  },
  {
   "cell_type": "markdown",
   "metadata": {},
   "source": [
    "- Tạo hàm `process_image` push input_image vào DNN model để tìm bounding box phù hợp"
   ]
  },
  {
   "cell_type": "code",
   "execution_count": 18,
   "metadata": {},
   "outputs": [],
   "source": [
    "def process_image(image):\n",
    "    blob = cv2.dnn.blobFromImage(\n",
    "        cv2.resize(image, (300, 300)), 0.007843, (300, 300), 127.5\n",
    "    )\n",
    "    net = cv2.dnn.readNetFromCaffe(PROTOTXT, MODEL)\n",
    "    net.setInput(blob)\n",
    "    detections = net.forward()\n",
    "    return detections"
   ]
  },
  {
   "cell_type": "markdown",
   "metadata": {},
   "source": [
    "- Tạo hàm `annotate_image` để lọc các bounding box có độ tin cậy thấp"
   ]
  },
  {
   "cell_type": "code",
   "execution_count": null,
   "metadata": {},
   "outputs": [],
   "source": [
    "def annotate_image(\n",
    "        image, detections, confidence_threshold=0.5\n",
    "):\n",
    "    # loop over the detections\n",
    "    (h, w) = image.shape[:2]\n",
    "    for i in np.arange(0, detections.shape[2]):\n",
    "        confidence = detections[0, 0, i, 2]\n",
    "        if confidence > confidence_threshold:\n",
    "            # extract the index of the class label from the 'detectión',\n",
    "            # then compute the (x, y)-coordinates of the bounding box for the object\n",
    "            idx = int(detections[0, 0, i, 1])\n",
    "            box = detections[0, 0, i, 3:7] * np.array([w, h, w, h])\n",
    "            (startX, startY, endX, endY) = box.astype('int')\n",
    "            cv2.rectangle(image, (startX, startY), (endX, endY), 70, 2)\n",
    "    return image"
   ]
  },
  {
   "cell_type": "markdown",
   "metadata": {},
   "source": [
    "- Giao diện `steamlit`"
   ]
  },
  {
   "cell_type": "code",
   "execution_count": null,
   "metadata": {},
   "outputs": [],
   "source": [
    "import streamlit as st\n",
    "import numpy as np\n",
    "from PIL import Image\n",
    "\n",
    "st.title('Object Detection for Images')\n",
    "file = st.file_uploader('Upload Image', type=['jpg', 'png', 'jpeg'])\n",
    "if file is not None:\n",
    "    st.image(file, caption='Upload Image')\n",
    "    image = Image.open(file)\n",
    "    image = np.array(image)\n",
    "    detections = object_detection.process_image(image)\n",
    "    processed_image = object_detection.annotate_image(image, detections)\n",
    "    st.image(processed_image, caption='Processed Image')"
   ]
  },
  {
   "cell_type": "markdown",
   "metadata": {},
   "source": [
    "---"
   ]
  },
  {
   "cell_type": "markdown",
   "metadata": {},
   "source": [
    "## 3. Chatbot"
   ]
  },
  {
   "cell_type": "markdown",
   "metadata": {},
   "source": [
    "<div style=\"border-bottom: 1px dashed white;\"></div>"
   ]
  },
  {
   "cell_type": "code",
   "execution_count": 19,
   "metadata": {},
   "outputs": [],
   "source": [
    "import streamlit as st\n",
    "from hugchat import hugchat\n",
    "from hugchat.login import Login"
   ]
  },
  {
   "cell_type": "markdown",
   "metadata": {},
   "source": [
    "- Giao diện đăng nhập bên trái"
   ]
  },
  {
   "cell_type": "code",
   "execution_count": null,
   "metadata": {},
   "outputs": [],
   "source": [
    "# App title\n",
    "st.title('Simple ChatBot')\n",
    "\n",
    "# Hugging Face Credentials\n",
    "with st.sidebar:\n",
    "    st.title('Login HugChat')\n",
    "    hf_email = st.text_input('Enter E-mail:')\n",
    "    hf_pass = st.text_input('Enter Password:', type='password')\n",
    "    if not (hf_email and hf_pass):\n",
    "        st.warning('Please enter your account!')\n",
    "    else:\n",
    "        st.success('Proceed to entering your prompt message!')"
   ]
  },
  {
   "cell_type": "markdown",
   "metadata": {},
   "source": [
    "- Giao diện Chat"
   ]
  },
  {
   "cell_type": "code",
   "execution_count": null,
   "metadata": {},
   "outputs": [],
   "source": [
    "# Store LLM generated responses\n",
    "if 'messages' not in st.session_state.keys():\n",
    "    st.session_state.messages = [\n",
    "        {'role': 'assistant', 'content': 'How may I help you'}]\n",
    "\n",
    "# Display chat messages\n",
    "for message in st.session_state.messages:\n",
    "    with st.chat_message(message['role']):\n",
    "        st.write(message['content'])"
   ]
  },
  {
   "cell_type": "markdown",
   "metadata": {},
   "source": [
    "- Tạo hàm `generate_response` để tạo phản hồi từ chatbot dựa trên prompt của user "
   ]
  },
  {
   "cell_type": "code",
   "execution_count": null,
   "metadata": {},
   "outputs": [],
   "source": [
    "# Function for generating LLM response\n",
    "def generate_response(prompt_input, email, passwd):\n",
    "    # Hugging Face Login\n",
    "    sign = Login(email, passwd)\n",
    "    # Get cookies \n",
    "    cookies = sign.login()\n",
    "    # Create ChatBot from cookies\n",
    "    chatbot = hugchat.ChatBot(cookies=cookies.get_dict())\n",
    "    # Return chatbot's answer with user's prompt_input \n",
    "    return chatbot.chat(prompt_input)\n",
    "\n",
    "# User-provided prompt\n",
    "if prompt := st.chat_input(disabled=not (hf_email and hf_pass)):\n",
    "    # Append user's message to session state\n",
    "    st.session_state.messages.append({'role': 'user', 'content': prompt})\n",
    "    # Display user's message in chat message format\n",
    "    with st.chat_message('user'):\n",
    "        st.write(prompt)\n",
    "\n",
    "# Generate a new response if last message is not from assistant\n",
    "if st.session_state.messages[-1]['role'] != 'assistant':\n",
    "    # Display assistant's message in chat message format\n",
    "    with st.chat_message('assistant'):\n",
    "        # Show 'Thinking...' spinner while generating response\n",
    "        with st.spinner('Thinking...'):\n",
    "            # Generate response from chatbot\n",
    "            response = generate_response(prompt, hf_email, hf_pass)\n",
    "            # Display chatbot's response\n",
    "            st.write(response)\n",
    "    # Append assistant's message to session state\n",
    "    message = {'role': 'assistant', 'content': response}\n",
    "    st.session_state.messages.append(message)"
   ]
  },
  {
   "cell_type": "markdown",
   "metadata": {},
   "source": [
    "---"
   ]
  },
  {
   "cell_type": "markdown",
   "metadata": {},
   "source": [
    "# II. CÂU HỎI TRẮC NGHIỆM"
   ]
  },
  {
   "cell_type": "markdown",
   "metadata": {},
   "source": [
    "---"
   ]
  },
  {
   "cell_type": "code",
   "execution_count": 2,
   "metadata": {},
   "outputs": [],
   "source": [
    "import streamlit as st\n",
    "from streamlit_jupyter import StreamlitPatcher, tqdm"
   ]
  },
  {
   "cell_type": "code",
   "execution_count": 3,
   "metadata": {},
   "outputs": [],
   "source": [
    "sp = StreamlitPatcher()\n",
    "sp.jupyter()  # register patcher with streamlit"
   ]
  },
  {
   "cell_type": "markdown",
   "metadata": {},
   "source": [
    "## Câu 1:"
   ]
  },
  {
   "cell_type": "markdown",
   "metadata": {},
   "source": [
    "Hàm `st.text` được sử dụng để hiển thị chuỗi văn bản trong giao diện Steamlit"
   ]
  },
  {
   "cell_type": "code",
   "execution_count": 10,
   "metadata": {},
   "outputs": [
    {
     "data": {
      "text/markdown": [
       "```None\n",
       "Hello World!\n",
       "```"
      ],
      "text/plain": [
       "<IPython.core.display.Markdown object>"
      ]
     },
     "metadata": {},
     "output_type": "display_data"
    }
   ],
   "source": [
    "# |exporti\n",
    "\n",
    "st.text('Hello World!')"
   ]
  },
  {
   "cell_type": "code",
   "execution_count": 14,
   "metadata": {},
   "outputs": [
    {
     "data": {
      "text/plain": [
       "DeltaGenerator()"
      ]
     },
     "execution_count": 14,
     "metadata": {},
     "output_type": "execute_result"
    }
   ],
   "source": [
    "# |exporti\n",
    "\n",
    "st.image(r'2-object-detection\\image\\kitten-dog.jpg')"
   ]
  },
  {
   "cell_type": "code",
   "execution_count": 15,
   "metadata": {},
   "outputs": [
    {
     "data": {
      "application/vnd.jupyter.widget-view+json": {
       "model_id": "e89c8c51845944a28d410b930b6fc5a1",
       "version_major": 2,
       "version_minor": 0
      },
      "text/plain": [
       "Dropdown(description='Select an option', options=('Option 1', 'Option 2', 'Option 3'), value='Option 1')"
      ]
     },
     "metadata": {},
     "output_type": "display_data"
    }
   ],
   "source": [
    "# |exporti\n",
    "options = ['Option 1', 'Option 2', 'Option 3']\n",
    "\n",
    "selected_option = st.selectbox('Select an option', options)"
   ]
  },
  {
   "cell_type": "code",
   "execution_count": 26,
   "metadata": {},
   "outputs": [
    {
     "data": {
      "text/plain": [
       "0"
      ]
     },
     "execution_count": 26,
     "metadata": {},
     "output_type": "execute_result"
    }
   ],
   "source": [
    "# |exporti\n",
    "\n",
    "st.slider('Select a value', min_value=0, max_value=100)"
   ]
  },
  {
   "cell_type": "markdown",
   "metadata": {},
   "source": [
    "## Câu 2:"
   ]
  },
  {
   "cell_type": "code",
   "execution_count": 32,
   "metadata": {},
   "outputs": [
    {
     "data": {
      "application/vnd.jupyter.widget-view+json": {
       "model_id": "030d2c047463461490059ab04a9a43eb",
       "version_major": 2,
       "version_minor": 0
      },
      "text/plain": [
       "SelectMultiple(description='Your favorite colors:', options=('Green', 'Yellow', 'Red', 'Blue'), value=())"
      ]
     },
     "metadata": {},
     "output_type": "display_data"
    },
    {
     "data": {
      "text/markdown": [
       "You selected:"
      ],
      "text/plain": [
       "<IPython.core.display.Markdown object>"
      ]
     },
     "metadata": {},
     "output_type": "display_data"
    },
    {
     "data": {
      "text/plain": [
       "['Yellow', 'Red']"
      ]
     },
     "metadata": {},
     "output_type": "display_data"
    }
   ],
   "source": [
    "# |exporti\n",
    "st.multiselect('Your favorite colors:', ['Green', 'Yellow', 'Red', 'Blue'])\n",
    "\n",
    "options = ['Yellow', 'Red']\n",
    "st.write('You selected:', options)"
   ]
  },
  {
   "cell_type": "markdown",
   "metadata": {},
   "source": [
    "## Câu 3:"
   ]
  },
  {
   "cell_type": "markdown",
   "metadata": {},
   "source": [
    "Hàm `st.text_input()` được sử dụng để người dùng nhập văn bản trên giao diện Streamlit"
   ]
  },
  {
   "cell_type": "code",
   "execution_count": 36,
   "metadata": {},
   "outputs": [
    {
     "data": {
      "application/vnd.jupyter.widget-view+json": {
       "model_id": "ca9a479fdd024befa00f3a9900493748",
       "version_major": 2,
       "version_minor": 0
      },
      "text/plain": [
       "Textarea(value='', description='Enter your name', placeholder='Type something')"
      ]
     },
     "metadata": {},
     "output_type": "display_data"
    },
    {
     "data": {
      "text/markdown": [
       "Your name is:"
      ],
      "text/plain": [
       "<IPython.core.display.Markdown object>"
      ]
     },
     "metadata": {},
     "output_type": "display_data"
    },
    {
     "data": {
      "text/markdown": [],
      "text/plain": [
       "<IPython.core.display.Markdown object>"
      ]
     },
     "metadata": {},
     "output_type": "display_data"
    }
   ],
   "source": [
    "# |exporti\n",
    "name = st.text_input('Enter your name')\n",
    "st.write('Your name is:', name)"
   ]
  },
  {
   "cell_type": "markdown",
   "metadata": {},
   "source": [
    "## Câu 4"
   ]
  },
  {
   "cell_type": "markdown",
   "metadata": {},
   "source": [
    "Hàm `st.image(file_path, caption, width, channel)` được sử dụng để hiển thị hình ảnh trên giao diện Streamlit"
   ]
  },
  {
   "cell_type": "code",
   "execution_count": 37,
   "metadata": {},
   "outputs": [
    {
     "data": {
      "text/plain": [
       "DeltaGenerator()"
      ]
     },
     "execution_count": 37,
     "metadata": {},
     "output_type": "execute_result"
    }
   ],
   "source": [
    "# |exporti\n",
    "st.image(r'2-object-detection\\image\\kitten-dog.jpg', caption='A cat', width=100, channels='RGB')"
   ]
  },
  {
   "cell_type": "markdown",
   "metadata": {},
   "source": [
    "## Câu 5"
   ]
  },
  {
   "cell_type": "markdown",
   "metadata": {},
   "source": [
    "Khoảng cách chỉnh sửa `leveshtein_distance`"
   ]
  },
  {
   "cell_type": "code",
   "execution_count": 39,
   "metadata": {},
   "outputs": [
    {
     "data": {
      "text/plain": [
       "5"
      ]
     },
     "execution_count": 39,
     "metadata": {},
     "output_type": "execute_result"
    }
   ],
   "source": [
    "levenshtein_distance('elmets', 'elements')"
   ]
  },
  {
   "cell_type": "markdown",
   "metadata": {},
   "source": [
    "## Câu 6:"
   ]
  },
  {
   "cell_type": "markdown",
   "metadata": {},
   "source": [
    "Hàm `st.session_state` được sử dụng để chia sẻ các biến trong mỗi phiên truy cập của người dùng"
   ]
  },
  {
   "cell_type": "code",
   "execution_count": 42,
   "metadata": {},
   "outputs": [
    {
     "data": {
      "application/vnd.jupyter.widget-view+json": {
       "model_id": "13da09793d4b4a3295e4e277d9cae273",
       "version_major": 2,
       "version_minor": 0
      },
      "text/plain": [
       "Textarea(value='', description='Enter your name', placeholder='Type something')"
      ]
     },
     "metadata": {},
     "output_type": "display_data"
    }
   ],
   "source": [
    "# |exporti\n",
    "if 'username' not in st.session_state:\n",
    "    st.text_input('Enter your name', key='username')\n",
    "else:\n",
    "    st.write('Hello ', st.session_state['username'])"
   ]
  },
  {
   "cell_type": "markdown",
   "metadata": {},
   "source": [
    "## Câu 7:"
   ]
  },
  {
   "cell_type": "code",
   "execution_count": 43,
   "metadata": {},
   "outputs": [],
   "source": [
    "# |exporti\n",
    "with st.form('my_form'):\n",
    "    col1, col2 = st.columns(2)\n",
    "    f_name = col1.text_input('First Names')\n",
    "    l_name = col2.text_input('Last Name')\n",
    "    submitted = st.form_submit_button('Submit')\n",
    "    if submitted:\n",
    "        st.write('First Name: ', f_name, ' Last Name: ', l_name)"
   ]
  },
  {
   "cell_type": "markdown",
   "metadata": {},
   "source": [
    "## Câu 8:"
   ]
  },
  {
   "cell_type": "markdown",
   "metadata": {},
   "source": [
    "Hàm `st.file_uploader('Choose files', accpet_multiple_files=True)` được sử dụng để tải lên nhiều file trong giao diện Steamlit"
   ]
  },
  {
   "cell_type": "code",
   "execution_count": 44,
   "metadata": {},
   "outputs": [],
   "source": [
    "# |exporti\n",
    "uploađe_files = st.file_uploader('Choose files', accept_multiple_files=True)"
   ]
  },
  {
   "cell_type": "markdown",
   "metadata": {},
   "source": [
    "## Câu 9:"
   ]
  },
  {
   "cell_type": "markdown",
   "metadata": {},
   "source": [
    "Hàm `st.code`, `st.echo` và `st.markdown` được sử dụng để hiển thị code trong giao diện Streamlit"
   ]
  },
  {
   "cell_type": "code",
   "execution_count": 51,
   "metadata": {},
   "outputs": [],
   "source": [
    "code_example = \"\"\"\n",
    "def greet(name):\n",
    "    print(f\"Hello, {name}!\")\n",
    "\"\"\""
   ]
  },
  {
   "cell_type": "code",
   "execution_count": 52,
   "metadata": {},
   "outputs": [
    {
     "data": {
      "text/markdown": [
       "```python\n",
       "\n",
       "def greet(name):\n",
       "    print(f\"Hello, {name}!\")\n",
       "\n",
       "```"
      ],
      "text/plain": [
       "<IPython.core.display.Markdown object>"
      ]
     },
     "metadata": {},
     "output_type": "display_data"
    }
   ],
   "source": [
    "# |exporti\n",
    "st.code(code_example, language=\"python\")"
   ]
  },
  {
   "cell_type": "code",
   "execution_count": 50,
   "metadata": {},
   "outputs": [
    {
     "data": {
      "text/markdown": [
       "\n",
       "def greet(name):\n",
       "    print(f\"Hello, {name}!\")\n"
      ],
      "text/plain": [
       "<IPython.core.display.Markdown object>"
      ]
     },
     "metadata": {},
     "output_type": "display_data"
    }
   ],
   "source": [
    "# |exporti\n",
    "st.markdown(code_example)"
   ]
  },
  {
   "cell_type": "code",
   "execution_count": 49,
   "metadata": {},
   "outputs": [
    {
     "ename": "RuntimeError",
     "evalue": "generator didn't yield",
     "output_type": "error",
     "traceback": [
      "\u001b[1;31m---------------------------------------------------------------------------\u001b[0m",
      "\u001b[1;31mRuntimeError\u001b[0m                              Traceback (most recent call last)",
      "Cell \u001b[1;32mIn[49], line 2\u001b[0m\n\u001b[0;32m      1\u001b[0m \u001b[38;5;66;03m# |exporti\u001b[39;00m\n\u001b[1;32m----> 2\u001b[0m \u001b[38;5;28;01mwith\u001b[39;00m st\u001b[38;5;241m.\u001b[39mecho():\n\u001b[0;32m      3\u001b[0m     \u001b[38;5;28;01mdef\u001b[39;00m \u001b[38;5;21mgreet\u001b[39m(name):\n\u001b[0;32m      4\u001b[0m         \u001b[38;5;28mprint\u001b[39m(\u001b[38;5;124mf\u001b[39m\u001b[38;5;124m\"\u001b[39m\u001b[38;5;124mHello, \u001b[39m\u001b[38;5;132;01m{\u001b[39;00mname\u001b[38;5;132;01m}\u001b[39;00m\u001b[38;5;124m!\u001b[39m\u001b[38;5;124m\"\u001b[39m)\n",
      "File \u001b[1;32mc:\\Users\\Admin\\anaconda3\\envs\\aio24_env\\lib\\contextlib.py:137\u001b[0m, in \u001b[0;36m_GeneratorContextManager.__enter__\u001b[1;34m(self)\u001b[0m\n\u001b[0;32m    135\u001b[0m     \u001b[38;5;28;01mreturn\u001b[39;00m \u001b[38;5;28mnext\u001b[39m(\u001b[38;5;28mself\u001b[39m\u001b[38;5;241m.\u001b[39mgen)\n\u001b[0;32m    136\u001b[0m \u001b[38;5;28;01mexcept\u001b[39;00m \u001b[38;5;167;01mStopIteration\u001b[39;00m:\n\u001b[1;32m--> 137\u001b[0m     \u001b[38;5;28;01mraise\u001b[39;00m \u001b[38;5;167;01mRuntimeError\u001b[39;00m(\u001b[38;5;124m\"\u001b[39m\u001b[38;5;124mgenerator didn\u001b[39m\u001b[38;5;124m'\u001b[39m\u001b[38;5;124mt yield\u001b[39m\u001b[38;5;124m\"\u001b[39m) \u001b[38;5;28;01mfrom\u001b[39;00m \u001b[38;5;28;01mNone\u001b[39;00m\n",
      "\u001b[1;31mRuntimeError\u001b[0m: generator didn't yield"
     ]
    }
   ],
   "source": [
    "# |exporti\n",
    "with st.echo():\n",
    "    def greet(name):\n",
    "        print(f\"Hello, {name}!\")"
   ]
  },
  {
   "cell_type": "markdown",
   "metadata": {},
   "source": [
    "## Câu 10:"
   ]
  },
  {
   "cell_type": "markdown",
   "metadata": {},
   "source": [
    "Dung lượng mặc định tối đa mỗi file được tải lên trong Streamlit là `200MB`"
   ]
  },
  {
   "cell_type": "markdown",
   "metadata": {},
   "source": [
    "Tuy nhiên, có thể tùy chỉnh giá trị này thông qua tham số `max_upload_size` trong cấu hình của ứng dụng :\n",
    "\n",
    "`streamlit run <tên_file>.py --server.maxUploadSize <giá_trị_dung_lượng>`"
   ]
  }
 ],
 "metadata": {
  "kernelspec": {
   "display_name": "aio24_env",
   "language": "python",
   "name": "python3"
  },
  "language_info": {
   "codemirror_mode": {
    "name": "ipython",
    "version": 3
   },
   "file_extension": ".py",
   "mimetype": "text/x-python",
   "name": "python",
   "nbconvert_exporter": "python",
   "pygments_lexer": "ipython3",
   "version": "3.10.14"
  }
 },
 "nbformat": 4,
 "nbformat_minor": 2
}
